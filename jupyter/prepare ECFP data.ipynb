{
 "cells": [
  {
   "cell_type": "code",
   "execution_count": 21,
   "id": "b1c0eecf",
   "metadata": {},
   "outputs": [],
   "source": [
    "import pandas as pd\n",
    "import numpy as np\n",
    "import os\n",
    "import pickle"
   ]
  },
  {
   "cell_type": "code",
   "execution_count": 4,
   "id": "7a0df7a5",
   "metadata": {},
   "outputs": [],
   "source": [
    "# define current working directory so we can navigate folders easily\n",
    "cwd = os.getcwd()\n",
    "os.chdir('../')\n",
    "pwd = os.getcwd()"
   ]
  },
  {
   "cell_type": "code",
   "execution_count": 29,
   "id": "fe6ac89f",
   "metadata": {},
   "outputs": [],
   "source": [
    "def fold_ecfp_from_KNIME(file, length)->None:\n",
    "    \n",
    "    df = pd.read_csv(file)\n",
    "    \n",
    "    df2 = df[~df['Core (stucture) ECFP fingerprint'].isna()]\n",
    "    \n",
    "    ecfp_list = []\n",
    "    for i in df2['Core (stucture) ECFP fingerprint']:\n",
    "        \n",
    "        unfolded = np.array(i[1:-1].split(',')).astype(np.int64)\n",
    "        \n",
    "        f = lambda x: abs(x) % length\n",
    "        indices = f(unfolded)\n",
    "        \n",
    "        bitvector = np.zeros(length, dtype=int)\n",
    "        \n",
    "        bitvector[indices]=1\n",
    "        ecfp_list.append(bitvector)\n",
    "    \n",
    "    output_df = pd.DataFrame(ecfp_list)\n",
    "    df2.reset_index(inplace=True)\n",
    "    output_df['SMILES'] = df2['Reactants>Reagents>Products']\n",
    "    output_df['Yield'] = df2['Yield (numerical)']\n",
    "    output_file = \"{}_ECFP_{}.csv\".format(file[:-4], length)\n",
    "    pickle_file = \"{}_ECFP_{}.pkl\".format(file[:-4], length)\n",
    "    \n",
    "    output_df.to_csv(output_file, index=False)\n",
    "    output_df.to_pickle(pickle_file, protocol=4)"
   ]
  },
  {
   "cell_type": "code",
   "execution_count": 30,
   "id": "db6fa9a6",
   "metadata": {},
   "outputs": [],
   "source": [
    "fold_ecfp_from_KNIME('/home/gah/oprd/data/oprd_mapped_cores.csv', 512)"
   ]
  },
  {
   "cell_type": "code",
   "execution_count": 18,
   "id": "cf7f049c",
   "metadata": {},
   "outputs": [
    {
     "data": {
      "text/plain": [
       "array([[0, 1, 0, ..., 0, 0, 0],\n",
       "       [0, 1, 0, ..., 0, 0, 0],\n",
       "       [0, 0, 0, ..., 0, 0, 0],\n",
       "       ...,\n",
       "       [0, 0, 0, ..., 0, 0, 1],\n",
       "       [0, 0, 0, ..., 0, 0, 0],\n",
       "       [0, 0, 0, ..., 0, 0, 0]])"
      ]
     },
     "execution_count": 18,
     "metadata": {},
     "output_type": "execute_result"
    }
   ],
   "source": [
    "pd.read_pickle('/home/gah/oprd/data/oprd_mapped_cores_ECFP_512.pkl').iloc[:,0:-2].to_numpy()"
   ]
  },
  {
   "cell_type": "code",
   "execution_count": 24,
   "id": "f9ae476b",
   "metadata": {},
   "outputs": [],
   "source": [
    "data = pickle.load(open(pwd+'/data/oprd_mapped_cores_ECFP_512.pkl',\"rb\"))"
   ]
  },
  {
   "cell_type": "code",
   "execution_count": 28,
   "id": "317d9b6f",
   "metadata": {},
   "outputs": [
    {
     "data": {
      "text/plain": [
       "0       [Br-].C[N+]1=CN(CC2=NC(CBr)=CC=C2)C2=CC=CC=C12...\n",
       "1       [Br-].C[N+]1=CN(CC2=NC(CBr)=CC=C2)C2=CC=CC=C12...\n",
       "2       [Cu+].[13C-]#[15N].FC1=C(Cl)C=C(I)C=C1>>FC1=C(...\n",
       "3       [H][C@@](O)(CO)[C@@]([H])(O)[C@]([H])(O)[C@@](...\n",
       "4       [K+].CC(C)(C)[O-].ClC(=O)C1=CC=C(Br)C=C1>>CC(C...\n",
       "                              ...                        \n",
       "2733    SC1=CC=CC=C1Cl.CC(=C)OC(C)=O>OS(=O)(=O)C(F)(F)...\n",
       "2734    SC1=CC=CC=C1N=CC1=CC=CC=C1>OO>S1C2=CC=CC=C2N=C...\n",
       "2735    SC1=NN=CN1C1=CC=C(C2CC2)C2=C1C=CC=C2.OC(=O)CBr...\n",
       "2736    SC1=NNC=N1.CC1=CC(C)=C(N)C(C)=C1>Cl.[Na+].[O-]...\n",
       "2737    SC1CCCCC1.CC(=C)OC(C)=O>OS(=O)(=O)C(F)(F)F>CC(...\n",
       "Name: SMILES, Length: 2738, dtype: object"
      ]
     },
     "execution_count": 28,
     "metadata": {},
     "output_type": "execute_result"
    }
   ],
   "source": [
    "data.iloc[:,-2]"
   ]
  },
  {
   "cell_type": "code",
   "execution_count": null,
   "id": "de07d8a7",
   "metadata": {},
   "outputs": [],
   "source": []
  }
 ],
 "metadata": {
  "kernelspec": {
   "display_name": "ML",
   "language": "python",
   "name": "ml"
  },
  "language_info": {
   "codemirror_mode": {
    "name": "ipython",
    "version": 3
   },
   "file_extension": ".py",
   "mimetype": "text/x-python",
   "name": "python",
   "nbconvert_exporter": "python",
   "pygments_lexer": "ipython3",
   "version": "3.8.13"
  }
 },
 "nbformat": 4,
 "nbformat_minor": 5
}
