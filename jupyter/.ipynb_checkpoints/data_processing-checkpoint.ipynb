{
 "cells": [
  {
   "cell_type": "code",
   "execution_count": 1,
   "id": "00efef09",
   "metadata": {},
   "outputs": [],
   "source": [
    "import pandas as pd\n",
    "import itertools\n",
    "#import pubchempy as pcp\n",
    "#import cirpy\n",
    "import os\n",
    "import glob\n",
    "from collections import Counter\n",
    "import seaborn as sns\n",
    "import matplotlib.pyplot as plt\n",
    "import numpy as np"
   ]
  },
  {
   "cell_type": "code",
   "execution_count": 11,
   "id": "fe5f2727",
   "metadata": {},
   "outputs": [],
   "source": [
    "def addToFile(file, what):\n",
    "    f = open(file, 'a').write(what) "
   ]
  },
  {
   "cell_type": "markdown",
   "id": "4c62abe9",
   "metadata": {},
   "source": [
    "## Remove entries with missing data"
   ]
  },
  {
   "cell_type": "code",
   "execution_count": 2,
   "id": "27fc8c72",
   "metadata": {},
   "outputs": [
    {
     "data": {
      "text/plain": [
       "'/home/gah/oprd/jupyter'"
      ]
     },
     "execution_count": 2,
     "metadata": {},
     "output_type": "execute_result"
    }
   ],
   "source": [
    "# define current working directory so we can navigate folders easily\n",
    "cwd = os.getcwd()\n",
    "cwd"
   ]
  },
  {
   "cell_type": "code",
   "execution_count": 5,
   "id": "993a7c50",
   "metadata": {},
   "outputs": [],
   "source": [
    "os.chdir('../')"
   ]
  },
  {
   "cell_type": "code",
   "execution_count": 8,
   "id": "5547d893",
   "metadata": {},
   "outputs": [
    {
     "data": {
      "text/plain": [
       "'/home/gah/oprd'"
      ]
     },
     "execution_count": 8,
     "metadata": {},
     "output_type": "execute_result"
    }
   ],
   "source": [
    "pwd = os.getcwd()\n",
    "pwd"
   ]
  },
  {
   "cell_type": "code",
   "execution_count": 9,
   "id": "4394475f",
   "metadata": {},
   "outputs": [],
   "source": [
    "# Assign logfile path\n",
    "logfile = pwd+'/logs/data_processing.txt'"
   ]
  },
  {
   "cell_type": "code",
   "execution_count": 12,
   "id": "4d16c836",
   "metadata": {},
   "outputs": [],
   "source": [
    "# Read in raw data\n",
    "raw_data = pd.read_excel(pwd+'/data/raw_data_master.xlsx')\n",
    "\n",
    "# Logfile entry - total # reactions in raw dataset\n",
    "addToFile(logfile, ('Total number of reactions to be processed: {}\\n'.format(len(raw_data))))\n",
    "\n",
    "# Drop na entries on Reaction Smiles column\n",
    "raw_data.dropna(subset=['Reaction'], inplace=True)\n",
    "\n",
    "# Remove entries that are missing reactant and product SMILES\n",
    "raw_data = raw_data[~raw_data['Reaction'].str.endswith('>>')]\n",
    "raw_data = raw_data[~raw_data['Reaction'].str.startswith('>>')]\n",
    "\n",
    "# Logfile entry - total # reactions after missing entries removed\n",
    "addToFile(logfile,\n",
    "         ('Total number of reactions after missing reagent/product SMILES removed: {}\\n'\n",
    "          .format(len(raw_data))))\n",
    "\n",
    "# Fill in missing entries on conditions column to allow for filtering\n",
    "raw_data['Other Conditions'].fillna(value='None', inplace=True)\n",
    "raw_data['Multi-step Details'].fillna(value='None', inplace=True)\n",
    "\n",
    "# Filter out all unwanted reactions\n",
    "key_words = ['Electrochemical', 'Electrolysis', 'Photolysis', 'Enzymatic']\n",
    "mask = raw_data[raw_data['Other Conditions'].str.contains(r'\\b(?:{})\\b'.format('|'.join(key_words)))]\n",
    "mask2 = raw_data[raw_data['Multi-step Details'].str.contains(r'\\b(?:{})\\b'.format('|'.join(key_words)))]\n",
    "\n",
    "# drop the Electro/Photolysis and electrochemical and enzymatic reactions\n",
    "combined = raw_data.append(mask)\n",
    "combined = combined.append(mask2)\n",
    "remaining = combined[~combined.index.duplicated(keep=False)]\n",
    "\n",
    "# Logfile entry - total # reactions after blanks and missing entries removed\n",
    "addToFile(logfile,\n",
    "         ('Total number of reactions after Electrochemical, Electro/Photolysis and Enzymatic reactions removed: {}\\n'\n",
    "          .format(len(remaining))))\n"
   ]
  },
  {
   "cell_type": "markdown",
   "id": "d9988130",
   "metadata": {},
   "source": [
    "## Getting to the reactions which can be used\n",
    "\n",
    "For the purpose of creating reactivity scales, we need reactions with reaction time, temperature and yield data. There are 3 possible entries for yield: Yield, Yield (numerical) and Yield (optical). With prediction of yields in mind, I want to keep the data as uniform as possible, so I will only keep those reactions which have a numerical % yield, not a mass in g, nor an optical yield. To get all the values which have yield data of some form, use .agg on the 3 yield columns to create a new column which enables us to capture all entries with yield information."
   ]
  },
  {
   "cell_type": "code",
   "execution_count": 13,
   "id": "02b78736",
   "metadata": {},
   "outputs": [],
   "source": [
    "# Copy dataframe from above so we can do analysis on it\n",
    "analysis = remaining.copy()\n",
    "analysis.fillna(value='None', inplace=True)\n",
    "analysis['Yield combined'] = analysis[['Yield',\n",
    "                                       'Yield (numerical)',\n",
    "                                       'Yield (optical)']].agg(''.join, axis=1)"
   ]
  },
  {
   "cell_type": "code",
   "execution_count": 19,
   "id": "c5469b5c",
   "metadata": {},
   "outputs": [],
   "source": [
    "# function to add value labels\n",
    "def addlabels(x,y):\n",
    "    for i in range(len(x)):\n",
    "        plt.text(i, y[i]+10, y[i], ha = 'center')\n",
    "\n",
    "# assign x and y        \n",
    "x = ['Multi-step',\n",
    "     'Single-step',\n",
    "     'Multi-step\\n(with yield)',\n",
    "     'Single-step\\n(with yield)',\n",
    "     'Single-step\\n(yield & time)',\n",
    "     'Single-step\\n(yield, time\\n& temperature)']\n",
    "\n",
    "y =  [len(analysis[analysis['Number of Reaction Steps'] !=1]),\n",
    "      len(analysis[analysis['Number of Reaction Steps'] ==1]),\n",
    "      len(analysis[~analysis['Number of Reaction Steps'].isin([1]) & \n",
    "                   ~analysis['Yield combined'].isin(['NoneNoneNone'])]),\n",
    "      len(analysis[analysis['Number of Reaction Steps'].isin([1]) &\n",
    "                   ~analysis['Yield combined'].isin(['NoneNoneNone'])]),\n",
    "      len(analysis[analysis['Number of Reaction Steps'].isin([1]) &\n",
    "                   ~analysis['Yield combined'].isin(['NoneNoneNone']) &\n",
    "                   ~analysis['Time (Reaction Details) [h]'].isin(['None'])]),\n",
    "      len(analysis[analysis['Number of Reaction Steps'].isin([1]) &\n",
    "                   ~analysis['Yield combined'].isin(['NoneNoneNone']) &\n",
    "                   ~analysis['Time (Reaction Details) [h]'].isin(['None']) &\n",
    "                   ~analysis['Temperature (Reaction Details) [C]'].isin(['None'])])]"
   ]
  },
  {
   "cell_type": "markdown",
   "id": "61c7267a",
   "metadata": {},
   "source": [
    "## Graph to show distribution of yield data between one-step and multi-step reactions"
   ]
  },
  {
   "cell_type": "code",
   "execution_count": 20,
   "id": "c1e4e962",
   "metadata": {},
   "outputs": [
    {
     "data": {
      "image/png": "[encoded data removed]",
      "text/plain": [
       "<Figure size 432x288 with 1 Axes>"
      ]
     },
     "metadata": {
      "needs_background": "light"
     },
     "output_type": "display_data"
    }
   ],
   "source": [
    "# making the bar chart on the data\n",
    "plt.bar(x, y)      \n",
    "# calling the function to add value labels\n",
    "addlabels(x, y)\n",
    "# rotate x ticks\n",
    "plt.xticks(rotation=25)\n",
    "# add a title\n",
    "plt.title('Breakdown of Reaxys data into\\ndata which is useful')\n",
    "# add tight layout to make the axis fir into figure box\n",
    "plt.tight_layout()\n",
    "# save it as a pdf\n",
    "plt.savefig(pwd+'/plots/plot_1_data_breakdown.pdf')"
   ]
  },
  {
   "cell_type": "markdown",
   "id": "67683408",
   "metadata": {},
   "source": [
    "## Isolating the useful reactions"
   ]
  },
  {
   "cell_type": "code",
   "execution_count": 35,
   "id": "04c384c8",
   "metadata": {},
   "outputs": [],
   "source": [
    "# Some yield information is given in mass (useful :D).\n",
    "# The common theme with these is that they all have the unit g.\n",
    "# how many are like this?\n",
    "with_mass = analysis[analysis['Number of Reaction Steps'].isin([1]) &\n",
    "                   ~analysis['Yield combined'].isin(['NoneNoneNone']) &\n",
    "                   ~analysis['Time (Reaction Details) [h]'].isin(['None']) &\n",
    "                   ~analysis['Temperature (Reaction Details) [C]'].isin(['None'])]\n",
    "addToFile(logfile,\n",
    "          ('Number of one step reactions (w/ t & T) with yield given in mass: {}\\n'\n",
    "           .format(len(with_mass[with_mass['Yield combined'].str.contains('g')]))))\n",
    "\n",
    "\n",
    "# Isolate the reactions which have a % yield, disregarding the optical and mass yields\n",
    "# Those reactions which have yield reported in mass or optical yield do not have an entry\n",
    "# in the numerical yield column, so we don't need to further filter.\n",
    "useful_reactions = analysis[analysis['Number of Reaction Steps'].isin([1]) &\n",
    "                           ~analysis['Yield (numerical)'].isin(['None']) &\n",
    "                           ~analysis['Time (Reaction Details) [h]'].isin(['None']) &\n",
    "                           ~analysis['Temperature (Reaction Details) [C]'].isin(['None'])]"
   ]
  },
  {
   "cell_type": "code",
   "execution_count": 37,
   "id": "e53cffe7",
   "metadata": {},
   "outputs": [],
   "source": [
    "# Add number of reactions taken forward into next steps to logfile\n",
    "addToFile(logfile,\n",
    "          ('Number of one step reactions (w/ t & T) with yield given numerically: {}\\n'\n",
    "           .format(len(useful_reactions))))"
   ]
  },
  {
   "cell_type": "markdown",
   "id": "3eefc1b4",
   "metadata": {},
   "source": [
    "### Plot to show breakdown of yield data"
   ]
  },
  {
   "cell_type": "code",
   "execution_count": 44,
   "id": "c200acb8",
   "metadata": {},
   "outputs": [],
   "source": [
    "# copy the resulting dataframe again\n",
    "analysis_2 = with_mass.copy()\n",
    "\n",
    "# create x and y again\n",
    "x2 = ['Single-step\\n(temperature,\\n& time yield)', 'Yield (text)', 'Yield (numerical)', 'Yield (optical)',\n",
    "      'Yield (as mass)']\n",
    "y2 = [len(analysis_2),\n",
    "      len(analysis_2[analysis_2['Yield']!='None']),\n",
    "      len(analysis_2[analysis_2['Yield (numerical)']!= 'None']),\n",
    "      len(analysis_2[analysis_2['Yield (optical)']!= 'None']),\n",
    "      len(analysis_2[analysis_2['Yield combined'].str.contains('g')])]"
   ]
  },
  {
   "cell_type": "code",
   "execution_count": 45,
   "id": "9a615bb5",
   "metadata": {},
   "outputs": [
    {
     "data": {
      "image/png": "[encoded data removed]",
      "text/plain": [
       "<Figure size 432x288 with 1 Axes>"
      ]
     },
     "metadata": {
      "needs_background": "light"
     },
     "output_type": "display_data"
    }
   ],
   "source": [
    "# making the bar chart on the data\n",
    "plt.bar(x2, y2)      \n",
    "# calling the function to add value labels\n",
    "addlabels(x2, y2)\n",
    "# rotate x ticks\n",
    "plt.xticks(rotation=25)\n",
    "# add a title\n",
    "plt.title('Yield Information Analysis')\n",
    "# add tight layout to make the axis fir into figure box\n",
    "plt.tight_layout()\n",
    "# save it as a pdf\n",
    "plt.savefig(pwd+'/plots/plot_2_yield_breakdown.pdf')"
   ]
  },
  {
   "cell_type": "code",
   "execution_count": 46,
   "id": "832f692c",
   "metadata": {},
   "outputs": [],
   "source": [
    "## Saving the one step reactions with time, % yield and temperature to csv file for further use\n",
    "\n",
    "useful_reactions.to_csv(pwd+'/data/useful_reactions.csv',index=False)"
   ]
  },
  {
   "cell_type": "markdown",
   "id": "9cd26994",
   "metadata": {},
   "source": [
    "## First iteration of AAM and ReactionCode generation\n",
    "\n",
    "Only using reactants and products - no additional reagents added"
   ]
  },
  {
   "cell_type": "code",
   "execution_count": 35,
   "id": "723cf199",
   "metadata": {},
   "outputs": [],
   "source": [
    "# Reset the index of the useful reactions dataframe\n",
    "useful_reactions.reset_index(inplace=True)"
   ]
  },
  {
   "cell_type": "markdown",
   "id": "05d852db",
   "metadata": {},
   "source": [
    "### Atom-atom mapping with Reaction Decoder Tool (v2.5.0)"
   ]
  },
  {
   "cell_type": "code",
   "execution_count": 55,
   "id": "a747243d",
   "metadata": {},
   "outputs": [],
   "source": [
    "with open('first_iteration_rdt.bat', 'w') as outfile:\n",
    "    \n",
    "    # loop through every reaction string\n",
    "    # using the index in the  DataFrame\n",
    "    # as reference for file names\n",
    "    for index, reaction_string in enumerate(with_t_and_y['Reaction'].to_list()):\n",
    "        outfile.write('mkdir \"%rdtpath%rdt_1\\\\'\n",
    "                      + str(index)\n",
    "                      + '\" && cd \"%rdtpath%rdt_1\\\\'\n",
    "                      + str(index)\n",
    "                      + r'\" && java -jar \"%rdtpath%rdt_2.5.0.jar\" -Q SMI -q \"'\n",
    "                      + reaction_string\n",
    "                      + '\" -g -c -j AAM -f TEXT'\n",
    "                      + '\\n')"
   ]
  },
  {
   "cell_type": "markdown",
   "id": "e464a4c4",
   "metadata": {},
   "source": [
    "### Reaction templates with ReactionCode (v1.2.2)"
   ]
  },
  {
   "cell_type": "code",
   "execution_count": 58,
   "id": "9059b7dd",
   "metadata": {},
   "outputs": [],
   "source": [
    "with open('first_iteration_ReactionCode.bat', 'w') as outfile:\n",
    "    \n",
    "    # Some clever trickery to assign the file path for reaction decoder tool\n",
    "    # such that we can reference to it from a different directory\n",
    "    # this requires that the rdt.jar file is located in the\n",
    "    # same directory as the .bat file (it will be so no need to move anything.)\n",
    "    outfile.write(\"set reactioncodepath=%~dp0\\n\")\n",
    "    \n",
    "    # loop through every reaction string\n",
    "    # using the index in the with_t_and_y DataFrame\n",
    "    # as reference for file names\n",
    "    for index, reaction_string in enumerate(with_t_and_y['Reaction'].to_list()):\n",
    "        outfile.write('mkdir \"%reactioncodepath%ReactionCode_1\\\\'\n",
    "                      + str(index)\n",
    "                      + '\" && cd \"%reactioncodepath%rdt_1\\\\'\n",
    "                      + str(index)\n",
    "                      + r'\" && java -jar \"%reactioncodepath%ReactionCode_1.2.2.jar\" '\n",
    "                      + ' -q ECBLAST_smiles_AAM.rxn -o '\n",
    "                      + '\"%reactioncodepath%ReactionCode_1\\\\'\n",
    "                      + str(index)\n",
    "                      + '\\n')"
   ]
  },
  {
   "cell_type": "markdown",
   "id": "e8bd8930",
   "metadata": {},
   "source": [
    "### Rename the ReactionCode file to the index of the reaction"
   ]
  },
  {
   "cell_type": "code",
   "execution_count": 61,
   "id": "66eba77c",
   "metadata": {},
   "outputs": [],
   "source": [
    "with open (\"rename_1.bat\", 'w') as outfile:\n",
    "    \n",
    "    outfile.write(\"set reactioncodepath=%~dp0\\n\")\n",
    "    \n",
    "    for index, reaction_string in enumerate(with_t_and_y['Reaction'].to_list()):\n",
    "        outfile.write('rename \"%reactioncodepath%ReactionCode_1\\\\'\n",
    "                      +str(index)\n",
    "                      +'\\encoded_reactionsCode.csv\" \"'\n",
    "                      +str(index)\n",
    "                      +'.csv\"'\n",
    "                      +'\\n')"
   ]
  },
  {
   "cell_type": "markdown",
   "id": "b3939ad7",
   "metadata": {},
   "source": [
    "### Move all reaction codes into one directory"
   ]
  },
  {
   "cell_type": "code",
   "execution_count": 65,
   "id": "2f23bab1",
   "metadata": {},
   "outputs": [],
   "source": [
    "with open (\"move_1.bat\", 'w') as outfile:\n",
    "    \n",
    "    outfile.write(\"set reactioncodepath=%~dp0\\n\")\n",
    "    outfile.write(\"mkdir moved_1\\n\")\n",
    "    \n",
    "    for index, reaction_string in enumerate(with_t_and_y['Reaction'].to_list()):\n",
    "        outfile.write(r'move \"%reactioncodepath%ReactionCode_1\\\\'\n",
    "                      + str(index)\n",
    "                      + '\\\\'\n",
    "                      + str(index)\n",
    "                      + '.csv\" '\n",
    "                      + r'\"%reactioncodepath%moved_1\\\"'+'\\n')\n",
    "    "
   ]
  },
  {
   "cell_type": "markdown",
   "id": "de7dcaf0",
   "metadata": {},
   "source": [
    "### Merge the CSV files into one dataframe with index"
   ]
  },
  {
   "cell_type": "code",
   "execution_count": 75,
   "id": "3162c836",
   "metadata": {},
   "outputs": [
    {
     "name": "stderr",
     "output_type": "stream",
     "text": [
      "<ipython-input-75-ea0e5213f8ef>:10: SettingWithCopyWarning: \n",
      "A value is trying to be set on a copy of a slice from a DataFrame\n",
      "\n",
      "See the caveats in the documentation: https://pandas.pydata.org/pandas-docs/stable/user_guide/indexing.html#returning-a-view-versus-a-copy\n",
      "  df['file'][0] = df['file'][0][:-4]\n"
     ]
    }
   ],
   "source": [
    "path = r'C:\\Users\\GHodg\\OneDrive - University of Leeds\\GH Project Folder\\organised_jupyter_scripts\\GitHub\\master_script\\moved_1\\\\'\n",
    "\n",
    "all_files = glob.glob(os.path.join(path, \"*.csv\"))\n",
    "\n",
    "all_df = []\n",
    "for f in all_files:\n",
    "    try:\n",
    "        df = pd.read_csv(f, sep='\\t')\n",
    "        df['file'] = f.split('\\\\')[-1]\n",
    "        df['file'][0] = df['file'][0][:-4]\n",
    "        all_df.append(df)\n",
    "    except:\n",
    "        pass\n",
    "merged_df = pd.concat(all_df, ignore_index=True, sort=True)\n",
    "merged_df.set_index('file',inplace=True)\n",
    "merged_df.to_csv('first_iteration_successful_ReactionCodes.csv')\n",
    "\n",
    "# logfile entry - number of successful ReactionCodes generated from first iteration\n",
    "addToFile(logfile,\n",
    "          ('First iteration successful ReactionCodes generated: {}\\n'\n",
    "           .format(len(merged_df))))"
   ]
  },
  {
   "cell_type": "code",
   "execution_count": 76,
   "id": "086aa2d4",
   "metadata": {},
   "outputs": [
    {
     "data": {
      "text/html": [
       "<div>\n",
       "<style scoped>\n",
       "    .dataframe tbody tr th:only-of-type {\n",
       "        vertical-align: middle;\n",
       "    }\n",
       "\n",
       "    .dataframe tbody tr th {\n",
       "        vertical-align: top;\n",
       "    }\n",
       "\n",
       "    .dataframe thead th {\n",
       "        text-align: right;\n",
       "    }\n",
       "</style>\n",
       "<table border=\"1\" class=\"dataframe\">\n",
       "  <thead>\n",
       "    <tr style=\"text-align: right;\">\n",
       "      <th></th>\n",
       "      <th>agent</th>\n",
       "      <th>id</th>\n",
       "      <th>pseudosmiles</th>\n",
       "      <th>reactionCode</th>\n",
       "    </tr>\n",
       "    <tr>\n",
       "      <th>file</th>\n",
       "      <th></th>\n",
       "      <th></th>\n",
       "      <th></th>\n",
       "      <th></th>\n",
       "    </tr>\n",
       "  </thead>\n",
       "  <tbody>\n",
       "    <tr>\n",
       "      <th>0</th>\n",
       "      <td>False</td>\n",
       "      <td>NaN</td>\n",
       "      <td>CC[Si]1(CC)(OC=C(C[H]1)Cc2ccccc2)CC</td>\n",
       "      <td>0:90E()[1]908(01GG)[1]906()[1]901(10GG01GI)[1]...</td>\n",
       "    </tr>\n",
       "    <tr>\n",
       "      <th>1</th>\n",
       "      <td>False</td>\n",
       "      <td>NaN</td>\n",
       "      <td>c1c(C)n(nc1Br)C([H])([H])[H]</td>\n",
       "      <td>0:507()[1]507(19GG)[1]506(29GG)[1]506(19GH)[1]...</td>\n",
       "    </tr>\n",
       "    <tr>\n",
       "      <th>10</th>\n",
       "      <td>False</td>\n",
       "      <td>NaN</td>\n",
       "      <td>C(OC(C)(C)C)(N1CC(=[CH2][P+](c2ccccc2)(c3ccccc...</td>\n",
       "      <td>0:906()[1]906(02GG)[1]70F(10GH)[1]708(20GG)[1]...</td>\n",
       "    </tr>\n",
       "    <tr>\n",
       "      <th>100</th>\n",
       "      <td>False</td>\n",
       "      <td>NaN</td>\n",
       "      <td>[OH]1C2(=O)[H]C12C([H])(O)C(O)(CO)[H]</td>\n",
       "      <td>0:908()[1]906(01GG)[1]901(01GH)[1]706(10GI10GH...</td>\n",
       "    </tr>\n",
       "    <tr>\n",
       "      <th>1000</th>\n",
       "      <td>False</td>\n",
       "      <td>NaN</td>\n",
       "      <td>O=C1OC(=O)C2(CCC12)C</td>\n",
       "      <td>0:906()[1]906(21GG)[1]906(01GG)[1]906(21GI01GH...</td>\n",
       "    </tr>\n",
       "    <tr>\n",
       "      <th>...</th>\n",
       "      <td>...</td>\n",
       "      <td>...</td>\n",
       "      <td>...</td>\n",
       "      <td>...</td>\n",
       "    </tr>\n",
       "    <tr>\n",
       "      <th>993</th>\n",
       "      <td>False</td>\n",
       "      <td>NaN</td>\n",
       "      <td>O=C(NC(CC)c1cc(ncc1)S(=O)(=O)C)C(C)(C)C.O=C(NC...</td>\n",
       "      <td>0:506()[1]506()[1]506(21GG)[1]506(21GH)[1]|1:0...</td>\n",
       "    </tr>\n",
       "    <tr>\n",
       "      <th>994</th>\n",
       "      <td>False</td>\n",
       "      <td>NaN</td>\n",
       "      <td>O=C(NC(CC)c1cc(ncc1)S(=O)(=O)C)C(C)C.O=C(NC(CC...</td>\n",
       "      <td>0:506()[1]506(21GG)[1]506()[1]506(21GI)[1]|1:0...</td>\n",
       "    </tr>\n",
       "    <tr>\n",
       "      <th>995</th>\n",
       "      <td>False</td>\n",
       "      <td>NaN</td>\n",
       "      <td>O=C(NC(CC)c1cc(ncc1)S(=O)(=O)C)C.O=C(NC(CC)c1c...</td>\n",
       "      <td>0:506()[1]506()[1]506(21GG)[1]506(21GH)[1]|1:0...</td>\n",
       "    </tr>\n",
       "    <tr>\n",
       "      <th>998</th>\n",
       "      <td>False</td>\n",
       "      <td>NaN</td>\n",
       "      <td>O=CC(C)Cc1ccccc1</td>\n",
       "      <td>0:506()[1]506(21GG)[1]|1:006(11GG)[1]006(11GG)...</td>\n",
       "    </tr>\n",
       "    <tr>\n",
       "      <th>999</th>\n",
       "      <td>False</td>\n",
       "      <td>NaN</td>\n",
       "      <td>O=CC(C)COCc1ccccc1</td>\n",
       "      <td>0:506()[1]506(21GG)[1]|1:006(11GG)[1]006(11GG)...</td>\n",
       "    </tr>\n",
       "  </tbody>\n",
       "</table>\n",
       "<p>5258 rows × 4 columns</p>\n",
       "</div>"
      ],
      "text/plain": [
       "      agent  id                                       pseudosmiles  \\\n",
       "file                                                                 \n",
       "0     False NaN                CC[Si]1(CC)(OC=C(C[H]1)Cc2ccccc2)CC   \n",
       "1     False NaN                       c1c(C)n(nc1Br)C([H])([H])[H]   \n",
       "10    False NaN  C(OC(C)(C)C)(N1CC(=[CH2][P+](c2ccccc2)(c3ccccc...   \n",
       "100   False NaN              [OH]1C2(=O)[H]C12C([H])(O)C(O)(CO)[H]   \n",
       "1000  False NaN                               O=C1OC(=O)C2(CCC12)C   \n",
       "...     ...  ..                                                ...   \n",
       "993   False NaN  O=C(NC(CC)c1cc(ncc1)S(=O)(=O)C)C(C)(C)C.O=C(NC...   \n",
       "994   False NaN  O=C(NC(CC)c1cc(ncc1)S(=O)(=O)C)C(C)C.O=C(NC(CC...   \n",
       "995   False NaN  O=C(NC(CC)c1cc(ncc1)S(=O)(=O)C)C.O=C(NC(CC)c1c...   \n",
       "998   False NaN                                   O=CC(C)Cc1ccccc1   \n",
       "999   False NaN                                 O=CC(C)COCc1ccccc1   \n",
       "\n",
       "                                           reactionCode  \n",
       "file                                                     \n",
       "0     0:90E()[1]908(01GG)[1]906()[1]901(10GG01GI)[1]...  \n",
       "1     0:507()[1]507(19GG)[1]506(29GG)[1]506(19GH)[1]...  \n",
       "10    0:906()[1]906(02GG)[1]70F(10GH)[1]708(20GG)[1]...  \n",
       "100   0:908()[1]906(01GG)[1]901(01GH)[1]706(10GI10GH...  \n",
       "1000  0:906()[1]906(21GG)[1]906(01GG)[1]906(21GI01GH...  \n",
       "...                                                 ...  \n",
       "993   0:506()[1]506()[1]506(21GG)[1]506(21GH)[1]|1:0...  \n",
       "994   0:506()[1]506(21GG)[1]506()[1]506(21GI)[1]|1:0...  \n",
       "995   0:506()[1]506()[1]506(21GG)[1]506(21GH)[1]|1:0...  \n",
       "998   0:506()[1]506(21GG)[1]|1:006(11GG)[1]006(11GG)...  \n",
       "999   0:506()[1]506(21GG)[1]|1:006(11GG)[1]006(11GG)...  \n",
       "\n",
       "[5258 rows x 4 columns]"
      ]
     },
     "execution_count": 76,
     "metadata": {},
     "output_type": "execute_result"
    }
   ],
   "source": [
    "merged_df"
   ]
  },
  {
   "cell_type": "markdown",
   "id": "54670d67",
   "metadata": {},
   "source": [
    "### Plot to show results from 1st iteration"
   ]
  },
  {
   "cell_type": "code",
   "execution_count": 77,
   "id": "b7500590",
   "metadata": {},
   "outputs": [],
   "source": [
    "# import the resulting csv file that was produced earlier\n",
    "first_iteration_reactionCodes = pd.read_csv('first_iteration_successful_ReactionCodes.csv')"
   ]
  },
  {
   "cell_type": "markdown",
   "id": "5942e74b",
   "metadata": {},
   "source": [
    "## Reagents to SMILES by cirpy and pubchempy"
   ]
  },
  {
   "cell_type": "code",
   "execution_count": 79,
   "id": "b7ecee7a",
   "metadata": {},
   "outputs": [],
   "source": [
    "# To add in reagents as SMILES first convert as many reagents as possible using cirpy\n",
    "\n",
    "# Isolate unique reagents from one step reactions\n",
    "one_step_reagents = [i.split('; ') for i in with_t_and_y['Reagent'].to_list()]\n",
    "one_step_reagents_set = set(list(itertools.chain(*one_step_reagents)))\n",
    "\n",
    "# Logfile entry - total # items converted by cirpy in raw dataset\n",
    "addToFile(logfile, ('Total number of unique reagents to convert to SMILES: {}\\n'\n",
    "                    .format(len(one_step_reagents_set))))\n",
    "\n",
    "# Store the unsuccessful names in a list for \n",
    "# later processing by  pubchempy\n",
    "converted_smiles = []\n",
    "converted_name = []\n",
    "unsuccessful_reagents = []\n",
    "for i in one_step_reagents_set:\n",
    "        smiles = cirpy.resolve(i, 'smiles', ['name_by_cir','name_by_opsin'])\n",
    "        if smiles != None:\n",
    "            converted_name.append(i)\n",
    "            converted_smiles.append(smiles)\n",
    "        else:\n",
    "            unsuccessful_reagents.append(i)\n",
    "            \n",
    "# Logfile entry - total # items converted by cirpy in raw dataset\n",
    "addToFile(logfile, ('Total number of reagents converted by cirpy: {}\\n'\n",
    "                    .format(len(converted_smiles))))"
   ]
  },
  {
   "cell_type": "code",
   "execution_count": 80,
   "id": "61d0a2b4",
   "metadata": {},
   "outputs": [],
   "source": [
    "# pubchempy processing of the unsuccessful cirpy list\n",
    "\n",
    "\n",
    "# Get the pubchempy id's for each reagent if it exists\n",
    "compound_ids = []\n",
    "for i in unsuccessful_reagents:\n",
    "    results = pcp.get_compounds(i, 'name')\n",
    "    compound_ids.append(results)\n",
    "    \n",
    "# Make the compound ids into a list of strings so that the numeric part can be exctracted\n",
    "string_ids_list = []\n",
    "for sublist in compound_ids:\n",
    "    string_ids = []\n",
    "    for compound_id in sublist:\n",
    "        string_ids.append(str(compound_id))\n",
    "    string_ids_list.append(string_ids)\n",
    "\n",
    "# Extract the numeric portion of the strings for conversion to smiles\n",
    "cp_id_nums_list = []\n",
    "for sublist in string_ids_list:\n",
    "    cp_id_nums = []\n",
    "    for str_id in sublist:\n",
    "        cp_id_nums.append(''.join([s for s in str_id if s.isdigit()]))\n",
    "    cp_id_nums_list.append(cp_id_nums)\n",
    "    \n",
    "# Get the cannonical smiles representation of the compound and store in a list\n",
    "smiles_list = []\n",
    "for sublist in cp_id_nums_list:\n",
    "    smiles = []\n",
    "    for id_num in sublist:\n",
    "        c = pcp.Compound.from_cid(id_num)\n",
    "        smiles.append(c.canonical_smiles)\n",
    "    smiles_list.append(smiles)\n",
    "\n",
    "# Convert smiles list to strings and take only first representation if multiple available\n",
    "str_smiles_list = []\n",
    "for sublist in smiles_list:\n",
    "    if len(sublist) >= 1:\n",
    "        sublist = str(sublist[0])\n",
    "        str_smiles_list.append(sublist)\n",
    "    else:\n",
    "        str_smiles_list.append('NA')\n",
    "        \n",
    "# Dataframe to store name and smiles representation\n",
    "reags_with_smiles_df = pd.DataFrame(unsuccessful_reagents, columns=['Reagent'])\n",
    "reags_with_smiles_df['Smiles'] = str_smiles_list\n",
    "\n",
    "# Remove the reagents which couldn't be processed\n",
    "mask = reags_with_smiles_df['Smiles'] != 'NA'\n",
    "successful_pubchempy = reags_with_smiles_df[mask]\n",
    "\n",
    "# Create lists of converted reagents converted by both methods\n",
    "successful_names_all = successful_pubchempy['Reagent'].to_list() + converted_name\n",
    "successful_smiles_all = successful_pubchempy['Smiles'].to_list() + converted_smiles\n",
    "\n",
    "# Store in DataFrame\n",
    "converted_df = pd.DataFrame(successful_names_all, columns=['Reagent Name'])\n",
    "converted_df['SMILES'] = successful_smiles_all\n",
    "converted_df.to_csv('reagents_to_smiles_df.csv')"
   ]
  },
  {
   "cell_type": "code",
   "execution_count": 86,
   "id": "781e03eb",
   "metadata": {},
   "outputs": [],
   "source": [
    "# Logfile entry - total # items converted by pubchempy in raw dataset\n",
    "addToFile(logfile, ('Total number of reagents converted by pubchempy: {}\\n'\n",
    "                    .format(len(converted_df)-len(converted_smiles))))"
   ]
  },
  {
   "cell_type": "code",
   "execution_count": 82,
   "id": "a9ea7804",
   "metadata": {},
   "outputs": [],
   "source": [
    "# Get unsuccessful reagents\n",
    "unsuccessful_reagents = [i for i in one_step_reagents_set if i not in converted_df['Reagent Name'].to_list()]"
   ]
  },
  {
   "cell_type": "code",
   "execution_count": 83,
   "id": "82d3f503",
   "metadata": {},
   "outputs": [
    {
     "data": {
      "text/plain": [
       "284"
      ]
     },
     "execution_count": 83,
     "metadata": {},
     "output_type": "execute_result"
    }
   ],
   "source": [
    "len(unsuccessful_reagents)"
   ]
  },
  {
   "cell_type": "code",
   "execution_count": 87,
   "id": "b9e8da09",
   "metadata": {},
   "outputs": [],
   "source": [
    "# Logfile entry - number of reagents which couldn't be converted\n",
    "addToFile(logfile, ('Total number of unsuccessful reagents: {}\\n'\n",
    "                    .format(len(unsuccessful_reagents))))"
   ]
  },
  {
   "cell_type": "markdown",
   "id": "876ab475",
   "metadata": {},
   "source": [
    "## Create Reaction SMILES columns\n",
    "\n",
    "\n",
    "The second will include the reagents which were translated to SMILES by cirpy and by pubchempy.\n",
    "\n",
    "Third will include reagents from Will's spreadsheet - a second column will be created for catalysts and other non-useful reagents"
   ]
  },
  {
   "cell_type": "code",
   "execution_count": 98,
   "id": "59c283e8",
   "metadata": {},
   "outputs": [],
   "source": [
    "# Logfile entry - number of reagents which couldn't be converted\n",
    "addToFile(logfile, ('Number of Reactions from first iteration\\n which did not produce a reactionCode: {}\\n'\n",
    "                    .format(len(unsuccessful_reactions))))"
   ]
  },
  {
   "cell_type": "code",
   "execution_count": 91,
   "id": "ac9db9db",
   "metadata": {},
   "outputs": [
    {
     "name": "stderr",
     "output_type": "stream",
     "text": [
      "<ipython-input-91-7b827c916907>:39: SettingWithCopyWarning: \n",
      "A value is trying to be set on a copy of a slice from a DataFrame.\n",
      "Try using .loc[row_indexer,col_indexer] = value instead\n",
      "\n",
      "See the caveats in the documentation: https://pandas.pydata.org/pandas-docs/stable/user_guide/indexing.html#returning-a-view-versus-a-copy\n",
      "  with_t_and_y['Reagents as SMILES'] = ['.'.join(i) for i in add_to_reactants]\n",
      "<ipython-input-91-7b827c916907>:40: SettingWithCopyWarning: \n",
      "A value is trying to be set on a copy of a slice from a DataFrame.\n",
      "Try using .loc[row_indexer,col_indexer] = value instead\n",
      "\n",
      "See the caveats in the documentation: https://pandas.pydata.org/pandas-docs/stable/user_guide/indexing.html#returning-a-view-versus-a-copy\n",
      "  with_t_and_y['Reagents Not Converted'] = [', '.join(i) for i in weird_reagents]\n"
     ]
    }
   ],
   "source": [
    "'''Second iteration: add in the reagent SMILES codes which were converted by Cirpy and Pubchempy'''\n",
    "\n",
    "#extract the smiles and names into lists with common index\n",
    "names = converted_df['Reagent Name'].to_list()\n",
    "smiles = converted_df['SMILES'].to_list()\n",
    "\n",
    "# Get the reagents\n",
    "reagents = [i.split('; ') for i in with_t_and_y['Reagent'].to_list()]\n",
    "\n",
    "# cross reference names to smiles and replace names with corresponding smiles strings\n",
    "# store in converted_to_smiles which is a list of smiles strings and names which\n",
    "# were not converted\n",
    "converted_to_smiles = []\n",
    "for sublist in reagents:\n",
    "    sublist2 = []\n",
    "    for name in sublist:\n",
    "        if name in names:\n",
    "            sublist2.append(smiles[names.index(name)])\n",
    "        else:\n",
    "            sublist2.append(name)\n",
    "    converted_to_smiles.append(sublist2)\n",
    "    \n",
    "#extract the reagents which were not converted into weird_reagents\n",
    "#store the rest of the converted reagents in add_to_reactants\n",
    "weird_reagents = []\n",
    "add_to_reactants = []\n",
    "for sublist in converted_to_smiles:\n",
    "    sublist2 = []\n",
    "    sublist3 = []\n",
    "    for item in sublist:\n",
    "        if item not in smiles:\n",
    "            sublist2.append(item)\n",
    "        else:\n",
    "            sublist3.append(item)\n",
    "    weird_reagents.append(sublist2)\n",
    "    add_to_reactants.append(sublist3)\n",
    "\n",
    "#add converted reagents and non converted reagents to master df\n",
    "with_t_and_y['Reagents as SMILES'] = ['.'.join(i) for i in add_to_reactants]\n",
    "with_t_and_y['Reagents Not Converted'] = [', '.join(i) for i in weird_reagents]"
   ]
  },
  {
   "cell_type": "markdown",
   "id": "4ecf91ad",
   "metadata": {},
   "source": [
    "## Add in reagents as SMILES to reactants"
   ]
  },
  {
   "cell_type": "code",
   "execution_count": 96,
   "id": "735de70a",
   "metadata": {},
   "outputs": [],
   "source": [
    "# Get the set of reactions from the first iteration which didn't produce a ReactionCode\n",
    "successful_reactions = with_t_and_y.iloc[merged_df.index][:]\n",
    "combined_2 = with_t_and_y.append(successful_reactions)\n",
    "unsuccessful_reactions = combined_2[~combined_2.index.duplicated(keep=False)]"
   ]
  },
  {
   "cell_type": "code",
   "execution_count": 100,
   "id": "dd265062",
   "metadata": {},
   "outputs": [
    {
     "name": "stderr",
     "output_type": "stream",
     "text": [
      "<ipython-input-100-afd8b714f63f>:2: SettingWithCopyWarning: \n",
      "A value is trying to be set on a copy of a slice from a DataFrame.\n",
      "Try using .loc[row_indexer,col_indexer] = value instead\n",
      "\n",
      "See the caveats in the documentation: https://pandas.pydata.org/pandas-docs/stable/user_guide/indexing.html#returning-a-view-versus-a-copy\n",
      "  unsuccessful_reactions['Reactants'] = unsuccessful_reactions['Reaction'].str.rsplit(\">>\", n=1, expand=True)[0]\n",
      "<ipython-input-100-afd8b714f63f>:3: SettingWithCopyWarning: \n",
      "A value is trying to be set on a copy of a slice from a DataFrame.\n",
      "Try using .loc[row_indexer,col_indexer] = value instead\n",
      "\n",
      "See the caveats in the documentation: https://pandas.pydata.org/pandas-docs/stable/user_guide/indexing.html#returning-a-view-versus-a-copy\n",
      "  unsuccessful_reactions['Products'] = unsuccessful_reactions['Reaction'].str.rsplit(\">>\", n=1, expand=True)[1]\n",
      "<ipython-input-100-afd8b714f63f>:6: SettingWithCopyWarning: \n",
      "A value is trying to be set on a copy of a slice from a DataFrame.\n",
      "Try using .loc[row_indexer,col_indexer] = value instead\n",
      "\n",
      "See the caveats in the documentation: https://pandas.pydata.org/pandas-docs/stable/user_guide/indexing.html#returning-a-view-versus-a-copy\n",
      "  unsuccessful_reactions['Reactants + Reagents'] = unsuccessful_reactions[\n"
     ]
    }
   ],
   "source": [
    "# Split reaction SMILES into reactants and products\n",
    "unsuccessful_reactions['Reactants'] = unsuccessful_reactions['Reaction'].str.rsplit(\">>\", n=1, expand=True)[0]\n",
    "unsuccessful_reactions['Products'] = unsuccessful_reactions['Reaction'].str.rsplit(\">>\", n=1, expand=True)[1]\n",
    "\n",
    "# Combine the reactants and reagents columns\n",
    "unsuccessful_reactions['Reactants + Reagents'] = unsuccessful_reactions[\n",
    "                                                ['Reactants', 'Reagents as SMILES']].agg('.'.join, axis=1)\n",
    "\n",
    "# remove the reactions which don't have reagents to include\n",
    "with_reagents_added_1 = unsuccessful_reactions.drop(\n",
    "    unsuccessful_reactions[unsuccessful_reactions['Reactants + Reagents'].str.endswith('.')].index)\n",
    "\n",
    "# Logfile entry - number of failed reactions which don't have reagents to include\n",
    "addToFile(logfile, (\"Number of failed reactions which don't have reagents to include: {}\\n\"\n",
    "                    .format(len(unsuccessful_reactions)-len(with_reagents_added_1))))\n",
    "\n",
    "# Combine new reactant column with products column\n",
    "with_reagents_added_1['Reactants.Reagents>>Products'] = with_reagents_added_1[\n",
    "                                                ['Reactants + Reagents', 'Products']].agg('>>'.join, axis=1)\n",
    "\n",
    "# Logfile entry - number of failed reactions which don't have reagents to include\n",
    "addToFile(logfile, (\"Second iteration - Number of reactions with reagents now included: {}\\n\"\n",
    "                    .format(len(with_reagents_added_1))))"
   ]
  },
  {
   "cell_type": "markdown",
   "id": "e78d8554",
   "metadata": {},
   "source": [
    "## Second iteration of AAM and ReactionCode generation"
   ]
  },
  {
   "cell_type": "markdown",
   "id": "baabac21",
   "metadata": {},
   "source": [
    "### AAM with RDT\n",
    "this will take a while as now the number of atoms needed to map is larger"
   ]
  },
  {
   "cell_type": "code",
   "execution_count": 155,
   "id": "ef4a13e2",
   "metadata": {},
   "outputs": [],
   "source": [
    "with open('second_iteration_rdt.bat', 'w') as outfile:\n",
    "    \n",
    "    # Some clever trickery to assign the file path for reaction decoder tool\n",
    "    # such that we can reference to it from a different directory\n",
    "    # this requires that the rdt.jar file is located in the\n",
    "    # same directory as the .bat file (it will be so no need to move anything.)\n",
    "    outfile.write(\"set rdtpath=%~dp0\\n\")\n",
    "    \n",
    "    # loop through every reaction string\n",
    "    # using the index in the with_t_and_y DataFrame\n",
    "    # as reference for file names\n",
    "    for index, reaction_string in zip(with_reagents_added_1.index.to_list(),\n",
    "                                      with_reagents_added_1['Reactants.Reagents>>Products'].to_list()):\n",
    "        outfile.write('mkdir \"%rdtpath%rdt_2\\\\'\n",
    "                      + str(index)\n",
    "                      + '\" && cd \"%rdtpath%rdt_2\\\\'\n",
    "                      + str(index)\n",
    "                      + r'\" && java -jar \"%rdtpath%rdt_2.5.0.jar\" -Q SMI -q \"'\n",
    "                      + reaction_string\n",
    "                      + '\" -g -c -j AAM -f TEXT'\n",
    "                      + '\\n')"
   ]
  },
  {
   "cell_type": "markdown",
   "id": "18f99143",
   "metadata": {},
   "source": [
    "### ReactionCode Generation"
   ]
  },
  {
   "cell_type": "code",
   "execution_count": 156,
   "id": "b71f5e76",
   "metadata": {},
   "outputs": [],
   "source": [
    "with open('second_iteration_ReactionCode.bat', 'w') as outfile:\n",
    "    \n",
    "    # Some clever trickery to assign the file path for reaction decoder tool\n",
    "    # such that we can reference to it from a different directory\n",
    "    # this requires that the rdt.jar file is located in the\n",
    "    # same directory as the .bat file (it will be so no need to move anything.)\n",
    "    outfile.write(\"set reactioncodepath=%~dp0\\n\")\n",
    "    \n",
    "    # loop through every reaction string\n",
    "    # using the index in the with_t_and_y DataFrame\n",
    "    # as reference for file names\n",
    "    for index, reaction_string in zip(with_reagents_added_1.index.to_list(),\n",
    "                                      with_reagents_added_1['Reactants.Reagents>>Products'].to_list()):\n",
    "        outfile.write('mkdir \"%reactioncodepath%ReactionCode_2\\\\'\n",
    "                      + str(index)\n",
    "                      + '\" && cd \"%reactioncodepath%rdt_2\\\\'\n",
    "                      + str(index)\n",
    "                      + r'\" && java -jar \"%reactioncodepath%ReactionCode_1.2.2.jar\" '\n",
    "                      + ' -q ECBLAST_smiles_AAM.rxn -o '\n",
    "                      + '\"%reactioncodepath%ReactionCode_2\\\\'\n",
    "                      + str(index)\n",
    "                      + '\\n')"
   ]
  },
  {
   "cell_type": "markdown",
   "id": "59419e51",
   "metadata": {},
   "source": [
    "### Rename ReactionCodes"
   ]
  },
  {
   "cell_type": "code",
   "execution_count": 157,
   "id": "a7b9afab",
   "metadata": {},
   "outputs": [],
   "source": [
    "with open (\"rename_2.bat\", 'w') as outfile:\n",
    "    \n",
    "    outfile.write(\"set reactioncodepath=%~dp0\\n\")\n",
    "    \n",
    "    for index, reaction_string in zip(with_reagents_added_1.index.to_list(), \n",
    "                                      with_reagents_added_1['Reactants.Reagents>>Products'].to_list()):\n",
    "        outfile.write('rename \"%reactioncodepath%ReactionCode_2\\\\'\n",
    "                      +str(index)\n",
    "                      +'\\encoded_reactionsCode.csv\" \"'\n",
    "                      +str(index)\n",
    "                      +'(2).csv\"'\n",
    "                      +'\\n')"
   ]
  },
  {
   "cell_type": "markdown",
   "id": "70a91f23",
   "metadata": {},
   "source": [
    "### Move ReactionCodes to one directory"
   ]
  },
  {
   "cell_type": "code",
   "execution_count": 158,
   "id": "7e4c9143",
   "metadata": {},
   "outputs": [],
   "source": [
    "with open (\"move_2.bat\", 'w') as outfile:\n",
    "    \n",
    "    outfile.write(\"set reactioncodepath=%~dp0\\n\")\n",
    "    outfile.write(\"mkdir moved_2\\n\")\n",
    "    \n",
    "    for index, reaction_string in zip(with_reagents_added_1.index.to_list(), \n",
    "                                      with_reagents_added_1['Reactants.Reagents>>Products'].to_list()):\n",
    "        outfile.write(r'move \"%reactioncodepath%ReactionCode_2\\\\'\n",
    "                      + str(index)\n",
    "                      + '\\\\'\n",
    "                      + str(index)\n",
    "                      + '(2).csv\" '\n",
    "                      + r'\"%reactioncodepath%moved_2\\\"'+'\\n')"
   ]
  },
  {
   "cell_type": "markdown",
   "id": "f98ccbe7",
   "metadata": {},
   "source": [
    "### Merge the CSV files into one dataframe with index"
   ]
  },
  {
   "cell_type": "code",
   "execution_count": 183,
   "id": "5fa46683",
   "metadata": {},
   "outputs": [
    {
     "name": "stderr",
     "output_type": "stream",
     "text": [
      "<ipython-input-183-49b79963c991>:10: SettingWithCopyWarning: \n",
      "A value is trying to be set on a copy of a slice from a DataFrame\n",
      "\n",
      "See the caveats in the documentation: https://pandas.pydata.org/pandas-docs/stable/user_guide/indexing.html#returning-a-view-versus-a-copy\n",
      "  df['file'][0] = df['file'][0][:-4]\n"
     ]
    }
   ],
   "source": [
    "path2 = r'C:\\Users\\GHodg\\OneDrive - University of Leeds\\GH Project Folder\\organised_jupyter_scripts\\GitHub\\master_script\\moved_2\\\\'\n",
    "\n",
    "all_files2 = glob.glob(os.path.join(path2, \"*.csv\"))\n",
    "\n",
    "all_df2 = []\n",
    "for f in all_files2:\n",
    "    try:\n",
    "        df = pd.read_csv(f, sep='\\t')\n",
    "        df['file'] = f.split('\\\\')[-1]\n",
    "        df['file'][0] = df['file'][0][:-4]\n",
    "        all_df2.append(df)\n",
    "    except:\n",
    "        pass\n",
    "merged_df2 = pd.concat(all_df2, ignore_index=True, sort=True)\n",
    "merged_df2.set_index('file',inplace=True)\n",
    "merged_df2.to_csv('second_iteration_successful_ReactionCodes.csv')\n",
    "\n",
    "# logfile entry - number of successful ReactionCodes generated from first iteration\n",
    "addToFile(logfile,\n",
    "          ('Second iteration successful ReactionCodes generated: {}\\n'\n",
    "           .format(len(merged_df2))))"
   ]
  },
  {
   "cell_type": "code",
   "execution_count": 114,
   "id": "06f9677e",
   "metadata": {},
   "outputs": [],
   "source": [
    "second_iteration_successful_ReactionCodes = pd.read_csv('second_iteration_successful_ReactionCodes.csv')"
   ]
  },
  {
   "cell_type": "code",
   "execution_count": 115,
   "id": "d259e3b9",
   "metadata": {},
   "outputs": [],
   "source": [
    "# logfile entry - number of successful ReactionCodes generated from first iteration\n",
    "addToFile(logfile,\n",
    "          ('ReactionCodes generated after second iteration: {}\\n'\n",
    "           .format(len(second_iteration_successful_ReactionCodes))))"
   ]
  },
  {
   "cell_type": "markdown",
   "id": "e62bfcb6",
   "metadata": {},
   "source": [
    "## 3rd iteration - add in reagent SMILES from Will"
   ]
  },
  {
   "cell_type": "code",
   "execution_count": 102,
   "id": "5daa8273",
   "metadata": {},
   "outputs": [],
   "source": [
    "# import Will's excell file as a dataframe\n",
    "\n",
    "will_reagents = pd.read_excel(r'C:\\Users\\GHodg\\OneDrive - University of Leeds\\GH Project Folder\\organised_jupyter_scripts\\GitHub\\master_script\\unsuccessful_reagents_newroles_251121.xlsx')\n"
   ]
  },
  {
   "cell_type": "code",
   "execution_count": 103,
   "id": "c7d80117",
   "metadata": {},
   "outputs": [],
   "source": [
    "# fill in the missing values with None so we can filter the dataframe\n",
    "will_reagents['SMILES'].fillna(value='None', inplace=True)\n",
    "will_reagents['Role'].fillna(value='None', inplace=True)"
   ]
  },
  {
   "cell_type": "code",
   "execution_count": 104,
   "id": "083a4cf1",
   "metadata": {},
   "outputs": [],
   "source": [
    "# Get subset of Reagents with SMILES codes\n",
    "Reagents_with_SMILES = will_reagents[~will_reagents['SMILES'].isin(['None'])\n",
    "                                        &\n",
    "                                       will_reagents['Role'].isin(['Reagent'])]"
   ]
  },
  {
   "cell_type": "code",
   "execution_count": 106,
   "id": "287c5ac9",
   "metadata": {},
   "outputs": [],
   "source": [
    "# logfile entry - number of successful ReactionCodes generated from first iteration\n",
    "addToFile(logfile,\n",
    "          (\"Number of reagents included from Will's translation to SMILES: {}\\n\"\n",
    "           .format(len(Reagents_with_SMILES))))"
   ]
  },
  {
   "cell_type": "code",
   "execution_count": 107,
   "id": "e0ab7340",
   "metadata": {},
   "outputs": [
    {
     "name": "stderr",
     "output_type": "stream",
     "text": [
      "C:\\Users\\GHodg\\anaconda3\\lib\\site-packages\\pandas\\core\\series.py:4463: SettingWithCopyWarning: \n",
      "A value is trying to be set on a copy of a slice from a DataFrame\n",
      "\n",
      "See the caveats in the documentation: https://pandas.pydata.org/pandas-docs/stable/user_guide/indexing.html#returning-a-view-versus-a-copy\n",
      "  return super().fillna(\n"
     ]
    }
   ],
   "source": [
    "# fill null values with none to preserve index\n",
    "with_t_and_y['Reagents Not Converted'].fillna(value='None', inplace=True)\n"
   ]
  },
  {
   "cell_type": "code",
   "execution_count": 108,
   "id": "4e599c6a",
   "metadata": {},
   "outputs": [
    {
     "name": "stderr",
     "output_type": "stream",
     "text": [
      "<ipython-input-108-9937fe8336e7>:39: SettingWithCopyWarning: \n",
      "A value is trying to be set on a copy of a slice from a DataFrame.\n",
      "Try using .loc[row_indexer,col_indexer] = value instead\n",
      "\n",
      "See the caveats in the documentation: https://pandas.pydata.org/pandas-docs/stable/user_guide/indexing.html#returning-a-view-versus-a-copy\n",
      "  with_t_and_y[\"Will's Reagent SMILES\"] = ['.'.join(i) for i in add_to_reactants2]\n",
      "<ipython-input-108-9937fe8336e7>:40: SettingWithCopyWarning: \n",
      "A value is trying to be set on a copy of a slice from a DataFrame.\n",
      "Try using .loc[row_indexer,col_indexer] = value instead\n",
      "\n",
      "See the caveats in the documentation: https://pandas.pydata.org/pandas-docs/stable/user_guide/indexing.html#returning-a-view-versus-a-copy\n",
      "  with_t_and_y['Reagents Not Converted 2'] = [', '.join(i) for i in weird_reagents2]\n"
     ]
    }
   ],
   "source": [
    "'''Third iteration: add in the reagent SMILES codes which were converted by Will'''\n",
    "\n",
    "#extract the smiles and names into lists with common index\n",
    "names2 = Reagents_with_SMILES['Reagent'].to_list()\n",
    "smiles2 = Reagents_with_SMILES['SMILES'].to_list()\n",
    "\n",
    "# Get the reagents from reagents which were not converted by cirpy or pubchempy\n",
    "reagents2 = [i.split('; ') for i in with_t_and_y['Reagents Not Converted'].to_list()]\n",
    "\n",
    "# cross reference names to smiles and replace names with corresponding smiles strings\n",
    "# store in converted_to_smiles which is a list of smiles strings and names which\n",
    "# were not converted\n",
    "converted_to_smiles2 = []\n",
    "for sublist in reagents2:\n",
    "    sublist2 = []\n",
    "    for name in sublist:\n",
    "        if name in names2:\n",
    "            sublist2.append(smiles2[names2.index(name)])\n",
    "        else:\n",
    "            sublist2.append(name)\n",
    "    converted_to_smiles2.append(sublist2)\n",
    "    \n",
    "#extract the reagents which were not converted into weird_reagents\n",
    "#store the rest of the converted reagents in add_to_reactants\n",
    "weird_reagents2 = []\n",
    "add_to_reactants2 = []\n",
    "for sublist in converted_to_smiles2:\n",
    "    sublist2 = []\n",
    "    sublist3 = []\n",
    "    for item in sublist:\n",
    "        if item not in smiles2:\n",
    "            sublist2.append(item)\n",
    "        else:\n",
    "            sublist3.append(item)\n",
    "    weird_reagents2.append(sublist2)\n",
    "    add_to_reactants2.append(sublist3)\n",
    "\n",
    "#add converted reagents and non converted reagents to master df\n",
    "with_t_and_y[\"Will's Reagent SMILES\"] = ['.'.join(i) for i in add_to_reactants2]\n",
    "with_t_and_y['Reagents Not Converted 2'] = [', '.join(i) for i in weird_reagents2]"
   ]
  },
  {
   "cell_type": "code",
   "execution_count": 109,
   "id": "c697132a",
   "metadata": {},
   "outputs": [],
   "source": [
    "# Save the reactions which include Will's reagents as a CSV file\n",
    "will_reactions = with_t_and_y[~with_t_and_y[\"Will's Reagent SMILES\"].isin([''])]\n",
    "will_reactions.to_csv('will_reagents_relevant_reactions.csv')"
   ]
  },
  {
   "cell_type": "code",
   "execution_count": 110,
   "id": "223d381f",
   "metadata": {},
   "outputs": [],
   "source": [
    "# logfile entry \n",
    "addToFile(logfile,\n",
    "          (\"Number of reactions which include reagents from Will's work: {}\\n\"\n",
    "           .format(len(will_reactions))))"
   ]
  },
  {
   "cell_type": "code",
   "execution_count": 111,
   "id": "c7947c7c",
   "metadata": {},
   "outputs": [
    {
     "ename": "NameError",
     "evalue": "name 'merged_df2' is not defined",
     "output_type": "error",
     "traceback": [
      "\u001b[1;31m---------------------------------------------------------------------------\u001b[0m",
      "\u001b[1;31mNameError\u001b[0m                                 Traceback (most recent call last)",
      "\u001b[1;32m<ipython-input-111-f41efb5ceccd>\u001b[0m in \u001b[0;36m<module>\u001b[1;34m\u001b[0m\n\u001b[0;32m      4\u001b[0m \u001b[0mfirst_iteration_indexes\u001b[0m \u001b[1;33m=\u001b[0m \u001b[0mmerged_df\u001b[0m\u001b[1;33m.\u001b[0m\u001b[0mindex\u001b[0m\u001b[1;33m.\u001b[0m\u001b[0mto_list\u001b[0m\u001b[1;33m(\u001b[0m\u001b[1;33m)\u001b[0m\u001b[1;33m\u001b[0m\u001b[1;33m\u001b[0m\u001b[0m\n\u001b[0;32m      5\u001b[0m \u001b[1;33m\u001b[0m\u001b[0m\n\u001b[1;32m----> 6\u001b[1;33m \u001b[0msecond_iteration_indexes\u001b[0m \u001b[1;33m=\u001b[0m \u001b[1;33m[\u001b[0m\u001b[0mi\u001b[0m\u001b[1;33m[\u001b[0m\u001b[1;33m:\u001b[0m\u001b[1;33m-\u001b[0m\u001b[1;36m3\u001b[0m\u001b[1;33m]\u001b[0m \u001b[1;32mfor\u001b[0m \u001b[0mi\u001b[0m \u001b[1;32min\u001b[0m \u001b[0mmerged_df2\u001b[0m\u001b[1;33m.\u001b[0m\u001b[0mindex\u001b[0m\u001b[1;33m.\u001b[0m\u001b[0mto_list\u001b[0m\u001b[1;33m(\u001b[0m\u001b[1;33m)\u001b[0m\u001b[1;33m]\u001b[0m\u001b[1;33m\u001b[0m\u001b[1;33m\u001b[0m\u001b[0m\n\u001b[0m\u001b[0;32m      7\u001b[0m \u001b[1;33m\u001b[0m\u001b[0m\n\u001b[0;32m      8\u001b[0m \u001b[0mfirst_and_second_indexes\u001b[0m \u001b[1;33m=\u001b[0m \u001b[0mfirst_iteration_indexes\u001b[0m \u001b[1;33m+\u001b[0m \u001b[0msecond_iteration_indexes\u001b[0m\u001b[1;33m\u001b[0m\u001b[1;33m\u001b[0m\u001b[0m\n",
      "\u001b[1;31mNameError\u001b[0m: name 'merged_df2' is not defined"
     ]
    }
   ],
   "source": [
    "# Check if any of the reactions involving Will's reagents\n",
    "# Have an existing ReactionCode\n",
    "\n",
    "first_iteration_indexes = merged_df.index.to_list()\n",
    "\n",
    "second_iteration_indexes = [i[:-3] for i in merged_df2.index.to_list()]\n",
    "\n",
    "first_and_second_indexes = first_iteration_indexes + second_iteration_indexes\n",
    "\n",
    "will_indexes = will_reactions.index.to_list()\n",
    "\n",
    "will_count = 0\n",
    "for i in will_indexes:\n",
    "    if i in first_and_second_indexes:\n",
    "        will_count+=1"
   ]
  },
  {
   "cell_type": "code",
   "execution_count": 113,
   "id": "5fc8073d",
   "metadata": {},
   "outputs": [],
   "source": [
    "# logfile entry \n",
    "addToFile(logfile,\n",
    "          (\"Number of reactions from Will's reactions that already have a reactionCode: {}\\n\"\n",
    "           .format(0))) # insert will_count in here if run this again"
   ]
  },
  {
   "cell_type": "code",
   "execution_count": 116,
   "id": "4af74681",
   "metadata": {},
   "outputs": [
    {
     "name": "stderr",
     "output_type": "stream",
     "text": [
      "<ipython-input-116-39814db32fd0>:2: SettingWithCopyWarning: \n",
      "A value is trying to be set on a copy of a slice from a DataFrame.\n",
      "Try using .loc[row_indexer,col_indexer] = value instead\n",
      "\n",
      "See the caveats in the documentation: https://pandas.pydata.org/pandas-docs/stable/user_guide/indexing.html#returning-a-view-versus-a-copy\n",
      "  will_reactions['Reactants'] = will_reactions['Reaction'].str.rsplit(\">>\", n=1, expand=True)[0]\n",
      "<ipython-input-116-39814db32fd0>:3: SettingWithCopyWarning: \n",
      "A value is trying to be set on a copy of a slice from a DataFrame.\n",
      "Try using .loc[row_indexer,col_indexer] = value instead\n",
      "\n",
      "See the caveats in the documentation: https://pandas.pydata.org/pandas-docs/stable/user_guide/indexing.html#returning-a-view-versus-a-copy\n",
      "  will_reactions['Products'] = will_reactions['Reaction'].str.rsplit(\">>\", n=1, expand=True)[1]\n",
      "<ipython-input-116-39814db32fd0>:5: SettingWithCopyWarning: \n",
      "A value is trying to be set on a copy of a slice from a DataFrame.\n",
      "Try using .loc[row_indexer,col_indexer] = value instead\n",
      "\n",
      "See the caveats in the documentation: https://pandas.pydata.org/pandas-docs/stable/user_guide/indexing.html#returning-a-view-versus-a-copy\n",
      "  will_reactions['Reactants + Reagents 2'] = will_reactions[['Reactants', 'Reagents as SMILES']].agg('.'.join, axis=1)\n",
      "<ipython-input-116-39814db32fd0>:8: SettingWithCopyWarning: \n",
      "A value is trying to be set on a copy of a slice from a DataFrame.\n",
      "Try using .loc[row_indexer,col_indexer] = value instead\n",
      "\n",
      "See the caveats in the documentation: https://pandas.pydata.org/pandas-docs/stable/user_guide/indexing.html#returning-a-view-versus-a-copy\n",
      "  will_reactions['Has Existing Reagent']=~will_reactions['Reactants + Reagents 2'].str.endswith('.')\n",
      "<ipython-input-116-39814db32fd0>:11: SettingWithCopyWarning: \n",
      "A value is trying to be set on a copy of a slice from a DataFrame.\n",
      "Try using .loc[row_indexer,col_indexer] = value instead\n",
      "\n",
      "See the caveats in the documentation: https://pandas.pydata.org/pandas-docs/stable/user_guide/indexing.html#returning-a-view-versus-a-copy\n",
      "  will_reactions[\"Reactants + Reagents + Will's Reagents\"] = will_reactions[\n",
      "<ipython-input-116-39814db32fd0>:15: SettingWithCopyWarning: \n",
      "A value is trying to be set on a copy of a slice from a DataFrame.\n",
      "Try using .loc[row_indexer,col_indexer] = value instead\n",
      "\n",
      "See the caveats in the documentation: https://pandas.pydata.org/pandas-docs/stable/user_guide/indexing.html#returning-a-view-versus-a-copy\n",
      "  will_reactions[\"Reactants + Reagents + Will's Reagents Corrected\"] = will_reactions[\"Reactants + Reagents + Will's Reagents\"].str.replace(r'\\.\\.',r'.',regex=True)\n",
      "<ipython-input-116-39814db32fd0>:18: SettingWithCopyWarning: \n",
      "A value is trying to be set on a copy of a slice from a DataFrame.\n",
      "Try using .loc[row_indexer,col_indexer] = value instead\n",
      "\n",
      "See the caveats in the documentation: https://pandas.pydata.org/pandas-docs/stable/user_guide/indexing.html#returning-a-view-versus-a-copy\n",
      "  will_reactions['Reaction SMILES String'] = will_reactions[\n"
     ]
    }
   ],
   "source": [
    "# Split reaction SMILES into reactants and products\n",
    "will_reactions['Reactants'] = will_reactions['Reaction'].str.rsplit(\">>\", n=1, expand=True)[0]\n",
    "will_reactions['Products'] = will_reactions['Reaction'].str.rsplit(\">>\", n=1, expand=True)[1]\n",
    "\n",
    "will_reactions['Reactants + Reagents 2'] = will_reactions[['Reactants', 'Reagents as SMILES']].agg('.'.join, axis=1)\n",
    "\n",
    "# Were there any existing reagents from previous iterations?\n",
    "will_reactions['Has Existing Reagent']=~will_reactions['Reactants + Reagents 2'].str.endswith('.')\n",
    "\n",
    "# join on wills reagents\n",
    "will_reactions[\"Reactants + Reagents + Will's Reagents\"] = will_reactions[\n",
    "    ['Reactants + Reagents 2', \"Will's Reagent SMILES\"]].agg('.'.join, axis=1)\n",
    "\n",
    "# Replace .. with .\n",
    "will_reactions[\"Reactants + Reagents + Will's Reagents Corrected\"] = will_reactions[\"Reactants + Reagents + Will's Reagents\"].str.replace(r'\\.\\.',r'.',regex=True)\n",
    "\n",
    "# Add products\n",
    "will_reactions['Reaction SMILES String'] = will_reactions[\n",
    "    [\"Reactants + Reagents + Will's Reagents Corrected\", \"Products\"]].agg('>>'.join, axis=1)"
   ]
  },
  {
   "cell_type": "markdown",
   "id": "7693c999",
   "metadata": {},
   "source": [
    "### Third iteration RDT (AAM)"
   ]
  },
  {
   "cell_type": "code",
   "execution_count": 280,
   "id": "5499869e",
   "metadata": {},
   "outputs": [],
   "source": [
    "with open('third_iteration_rdt.bat', 'w') as outfile:\n",
    "    \n",
    "    # Some clever trickery to assign the file path for reaction decoder tool\n",
    "    # such that we can reference to it from a different directory\n",
    "    # this requires that the rdt.jar file is located in the\n",
    "    # same directory as the .bat file (it will be so no need to move anything.)\n",
    "    outfile.write(\"set rdtpath=%~dp0\\n\")\n",
    "    \n",
    "    # loop through every reaction string\n",
    "    # using the index in the with_t_and_y DataFrame\n",
    "    # as reference for file names\n",
    "    for index, reaction_string in zip(will_reactions.index.to_list(),\n",
    "                                      will_reactions['Reaction SMILES String'].to_list()):\n",
    "        outfile.write('mkdir \"%rdtpath%rdt_3\\\\'\n",
    "                      + str(index)\n",
    "                      + '\" && cd \"%rdtpath%rdt_3\\\\'\n",
    "                      + str(index)\n",
    "                      + r'\" && java -jar \"%rdtpath%rdt_2.5.0.jar\" -Q SMI -q \"'\n",
    "                      + reaction_string\n",
    "                      + '\" -g -c -j AAM -f TEXT'\n",
    "                      + '\\n')"
   ]
  },
  {
   "cell_type": "markdown",
   "id": "c04e0c0a",
   "metadata": {},
   "source": [
    "### Third iteration ReactionCode"
   ]
  },
  {
   "cell_type": "code",
   "execution_count": 281,
   "id": "7df05ccb",
   "metadata": {},
   "outputs": [],
   "source": [
    "with open('third_iteration_ReactionCode.bat', 'w') as outfile:\n",
    "    \n",
    "    # Some clever trickery to assign the file path for reaction decoder tool\n",
    "    # such that we can reference to it from a different directory\n",
    "    # this requires that the rdt.jar file is located in the\n",
    "    # same directory as the .bat file (it will be so no need to move anything.)\n",
    "    outfile.write(\"set reactioncodepath=%~dp0\\n\")\n",
    "    \n",
    "    # loop through every reaction string\n",
    "    # using the index in the with_t_and_y DataFrame\n",
    "    # as reference for file names\n",
    "    for index, reaction_string in zip(will_reactions.index.to_list(),\n",
    "                                      will_reactions['Reaction SMILES String'].to_list()):\n",
    "        outfile.write('mkdir \"%reactioncodepath%ReactionCode_3\\\\'\n",
    "                      + str(index)\n",
    "                      + '\" && cd \"%reactioncodepath%rdt_3\\\\'\n",
    "                      + str(index)\n",
    "                      + r'\" && java -jar \"%reactioncodepath%ReactionCode_1.2.2.jar\" '\n",
    "                      + ' -q ECBLAST_smiles_AAM.rxn -o '\n",
    "                      + '\"%reactioncodepath%ReactionCode_3\\\\'\n",
    "                      + str(index)\n",
    "                      + '\\n')"
   ]
  },
  {
   "cell_type": "markdown",
   "id": "f24dc059",
   "metadata": {},
   "source": [
    "### Rename ReactionCodes"
   ]
  },
  {
   "cell_type": "code",
   "execution_count": 287,
   "id": "ea30d8f1",
   "metadata": {},
   "outputs": [],
   "source": [
    "with open (\"rename_3.bat\", 'w') as outfile:\n",
    "    \n",
    "    outfile.write(\"set reactioncodepath=%~dp0\\n\")\n",
    "    \n",
    "    for index, reaction_string in zip(will_reactions.index.to_list(),\n",
    "                                      will_reactions['Reaction SMILES String'].to_list()):\n",
    "        outfile.write('rename \"%reactioncodepath%ReactionCode_3\\\\'\n",
    "                      +str(index)\n",
    "                      +'\\encoded_reactionsCode.csv\" \"'\n",
    "                      +str(index)\n",
    "                      +'(3).csv\"'\n",
    "                      +'\\n')"
   ]
  },
  {
   "cell_type": "markdown",
   "id": "d4396727",
   "metadata": {},
   "source": [
    "## Move ReactionCodes into same directory"
   ]
  },
  {
   "cell_type": "code",
   "execution_count": 284,
   "id": "7764c6c7",
   "metadata": {},
   "outputs": [],
   "source": [
    "with open (\"move_3.bat\", 'w') as outfile:\n",
    "    \n",
    "    outfile.write(\"set reactioncodepath=%~dp0\\n\")\n",
    "    outfile.write(\"mkdir moved_3\\n\")\n",
    "    \n",
    "    for index, reaction_string in zip(will_reactions.index.to_list(),\n",
    "                                      will_reactions['Reaction SMILES String'].to_list()):\n",
    "        outfile.write(r'move \"%reactioncodepath%ReactionCode_3\\\\'\n",
    "                      + str(index)\n",
    "                      + '\\\\'\n",
    "                      + str(index)\n",
    "                      + '(3).csv\" '\n",
    "                      + r'\"%reactioncodepath%moved_3\\\"'+'\\n')"
   ]
  },
  {
   "cell_type": "markdown",
   "id": "be7c4619",
   "metadata": {},
   "source": [
    "### Merge CSV files into one dataframe"
   ]
  },
  {
   "cell_type": "code",
   "execution_count": 290,
   "id": "d6f4c68b",
   "metadata": {},
   "outputs": [
    {
     "name": "stderr",
     "output_type": "stream",
     "text": [
      "<ipython-input-290-8e175f0f9b86>:10: SettingWithCopyWarning: \n",
      "A value is trying to be set on a copy of a slice from a DataFrame\n",
      "\n",
      "See the caveats in the documentation: https://pandas.pydata.org/pandas-docs/stable/user_guide/indexing.html#returning-a-view-versus-a-copy\n",
      "  df['file'][0] = df['file'][0][:-4]\n"
     ]
    }
   ],
   "source": [
    "path3 = r'C:\\Users\\GHodg\\OneDrive - University of Leeds\\GH Project Folder\\organised_jupyter_scripts\\GitHub\\master_script\\moved_3\\\\'\n",
    "\n",
    "all_files3 = glob.glob(os.path.join(path3, \"*.csv\"))\n",
    "\n",
    "all_df3 = []\n",
    "for f in all_files3:\n",
    "    try:\n",
    "        df = pd.read_csv(f, sep='\\t')\n",
    "        df['file'] = f.split('\\\\')[-1]\n",
    "        df['file'][0] = df['file'][0][:-4]\n",
    "        all_df3.append(df)\n",
    "    except:\n",
    "        pass\n",
    "merged_df3 = pd.concat(all_df3, ignore_index=True, sort=True)\n",
    "merged_df3.set_index('file',inplace=True)\n",
    "merged_df3.to_csv('third_iteration_successful_ReactionCodes.csv')\n"
   ]
  },
  {
   "cell_type": "code",
   "execution_count": 291,
   "id": "693bc1fc",
   "metadata": {},
   "outputs": [
    {
     "data": {
      "text/html": [
       "<div>\n",
       "<style scoped>\n",
       "    .dataframe tbody tr th:only-of-type {\n",
       "        vertical-align: middle;\n",
       "    }\n",
       "\n",
       "    .dataframe tbody tr th {\n",
       "        vertical-align: top;\n",
       "    }\n",
       "\n",
       "    .dataframe thead th {\n",
       "        text-align: right;\n",
       "    }\n",
       "</style>\n",
       "<table border=\"1\" class=\"dataframe\">\n",
       "  <thead>\n",
       "    <tr style=\"text-align: right;\">\n",
       "      <th></th>\n",
       "      <th>agent</th>\n",
       "      <th>id</th>\n",
       "      <th>pseudosmiles</th>\n",
       "      <th>reactionCode</th>\n",
       "    </tr>\n",
       "    <tr>\n",
       "      <th>file</th>\n",
       "      <th></th>\n",
       "      <th></th>\n",
       "      <th></th>\n",
       "      <th></th>\n",
       "    </tr>\n",
       "  </thead>\n",
       "  <tbody>\n",
       "    <tr>\n",
       "      <th>1029(3)</th>\n",
       "      <td>False</td>\n",
       "      <td>NaN</td>\n",
       "      <td>c1c2[nH](nc(c2ccc1N(=O)=O)(C=Cc3ccccn3)I)C(=O)C</td>\n",
       "      <td>0:906()[1]906(01GG)[1]735(10GG)[1]707()[1]706(...</td>\n",
       "    </tr>\n",
       "    <tr>\n",
       "      <th>1033(3)</th>\n",
       "      <td>False</td>\n",
       "      <td>NaN</td>\n",
       "      <td>[CH2](c1ccccc1)([CH2]2C([OH]2)CCC=C)[Mg]Cl</td>\n",
       "      <td>0:906()[1]906(01GG)[1]70C(10GH)[1]708(10GG)[1]...</td>\n",
       "    </tr>\n",
       "    <tr>\n",
       "      <th>1113(3)</th>\n",
       "      <td>False</td>\n",
       "      <td>NaN</td>\n",
       "      <td>c1cccc2c1cc(C(F)(F)(F)C(=O)[O-])cn2</td>\n",
       "      <td>0:906()[1]906(01GG)[1]706(10GH)[1]|1:009(11GH)...</td>\n",
       "    </tr>\n",
       "    <tr>\n",
       "      <th>1116(3)</th>\n",
       "      <td>False</td>\n",
       "      <td>NaN</td>\n",
       "      <td>C(F)(F)(F)(c1cccnc1)C(=O)[O-]</td>\n",
       "      <td>0:906()[1]906(01GG)[1]706(10GH)[1]|1:009(11GH)...</td>\n",
       "    </tr>\n",
       "    <tr>\n",
       "      <th>1171(3)</th>\n",
       "      <td>False</td>\n",
       "      <td>NaN</td>\n",
       "      <td>CC(C)(C)OC(NC(C(=O)(N1CCCC1)O)C(O)c2ccncc2)=O</td>\n",
       "      <td>0:907()[1]906(01GG)[1]708(10GH)[1]|1:008(22GH)...</td>\n",
       "    </tr>\n",
       "    <tr>\n",
       "      <th>...</th>\n",
       "      <td>...</td>\n",
       "      <td>...</td>\n",
       "      <td>...</td>\n",
       "      <td>...</td>\n",
       "    </tr>\n",
       "    <tr>\n",
       "      <th>964(3)</th>\n",
       "      <td>False</td>\n",
       "      <td>NaN</td>\n",
       "      <td>C(F)(F)(c1cnc[cH](n1)I)(F)(C(=O)O[Si](C)(C)C)Cl</td>\n",
       "      <td>0:909()[1]906()[1]906(01GH01GG)[1]735()[1]711(...</td>\n",
       "    </tr>\n",
       "    <tr>\n",
       "      <th>972(3)</th>\n",
       "      <td>False</td>\n",
       "      <td>NaN</td>\n",
       "      <td>c1cccc(c1)[Si](C)(C)CC(c2ccccc2)C</td>\n",
       "      <td>0:90E()[1]906(01GG)[1]506(21GH)[1]|1:006(11GG)...</td>\n",
       "    </tr>\n",
       "    <tr>\n",
       "      <th>973(3)</th>\n",
       "      <td>False</td>\n",
       "      <td>NaN</td>\n",
       "      <td>c1ccc(C(C)C[Si](Cl)(C)C)cc1</td>\n",
       "      <td>0:90E()[1]906(01GG)[1]506(21GH)[1]|1:011(11GG)...</td>\n",
       "    </tr>\n",
       "    <tr>\n",
       "      <th>975(3)</th>\n",
       "      <td>False</td>\n",
       "      <td>NaN</td>\n",
       "      <td>C(C)(c1ccccc1)C[Si](O[Si](C)(C)C)(C)C</td>\n",
       "      <td>0:90E()[1]906(01GG)[1]506(21GH)[1]|1:008(11GG)...</td>\n",
       "    </tr>\n",
       "    <tr>\n",
       "      <th>977(3)</th>\n",
       "      <td>False</td>\n",
       "      <td>NaN</td>\n",
       "      <td>O([Si](O[Si](C)(C)C)(C)CC(C)c1ccccc1)[Si](C)(C)C</td>\n",
       "      <td>0:90E()[1]906(01GG)[1]506(21GH)[1]|1:008(11GG)...</td>\n",
       "    </tr>\n",
       "  </tbody>\n",
       "</table>\n",
       "<p>354 rows × 4 columns</p>\n",
       "</div>"
      ],
      "text/plain": [
       "         agent  id                                      pseudosmiles  \\\n",
       "file                                                                   \n",
       "1029(3)  False NaN   c1c2[nH](nc(c2ccc1N(=O)=O)(C=Cc3ccccn3)I)C(=O)C   \n",
       "1033(3)  False NaN        [CH2](c1ccccc1)([CH2]2C([OH]2)CCC=C)[Mg]Cl   \n",
       "1113(3)  False NaN               c1cccc2c1cc(C(F)(F)(F)C(=O)[O-])cn2   \n",
       "1116(3)  False NaN                     C(F)(F)(F)(c1cccnc1)C(=O)[O-]   \n",
       "1171(3)  False NaN     CC(C)(C)OC(NC(C(=O)(N1CCCC1)O)C(O)c2ccncc2)=O   \n",
       "...        ...  ..                                               ...   \n",
       "964(3)   False NaN   C(F)(F)(c1cnc[cH](n1)I)(F)(C(=O)O[Si](C)(C)C)Cl   \n",
       "972(3)   False NaN                 c1cccc(c1)[Si](C)(C)CC(c2ccccc2)C   \n",
       "973(3)   False NaN                       c1ccc(C(C)C[Si](Cl)(C)C)cc1   \n",
       "975(3)   False NaN             C(C)(c1ccccc1)C[Si](O[Si](C)(C)C)(C)C   \n",
       "977(3)   False NaN  O([Si](O[Si](C)(C)C)(C)CC(C)c1ccccc1)[Si](C)(C)C   \n",
       "\n",
       "                                              reactionCode  \n",
       "file                                                        \n",
       "1029(3)  0:906()[1]906(01GG)[1]735(10GG)[1]707()[1]706(...  \n",
       "1033(3)  0:906()[1]906(01GG)[1]70C(10GH)[1]708(10GG)[1]...  \n",
       "1113(3)  0:906()[1]906(01GG)[1]706(10GH)[1]|1:009(11GH)...  \n",
       "1116(3)  0:906()[1]906(01GG)[1]706(10GH)[1]|1:009(11GH)...  \n",
       "1171(3)  0:907()[1]906(01GG)[1]708(10GH)[1]|1:008(22GH)...  \n",
       "...                                                    ...  \n",
       "964(3)   0:909()[1]906()[1]906(01GH01GG)[1]735()[1]711(...  \n",
       "972(3)   0:90E()[1]906(01GG)[1]506(21GH)[1]|1:006(11GG)...  \n",
       "973(3)   0:90E()[1]906(01GG)[1]506(21GH)[1]|1:011(11GG)...  \n",
       "975(3)   0:90E()[1]906(01GG)[1]506(21GH)[1]|1:008(11GG)...  \n",
       "977(3)   0:90E()[1]906(01GG)[1]506(21GH)[1]|1:008(11GG)...  \n",
       "\n",
       "[354 rows x 4 columns]"
      ]
     },
     "execution_count": 291,
     "metadata": {},
     "output_type": "execute_result"
    }
   ],
   "source": [
    "merged_df3"
   ]
  },
  {
   "cell_type": "code",
   "execution_count": 117,
   "id": "b045a934",
   "metadata": {},
   "outputs": [],
   "source": [
    "third_iteration_successful_ReactionCodes = pd.read_csv('third_iteration_successful_ReactionCodes.csv')"
   ]
  },
  {
   "cell_type": "code",
   "execution_count": 118,
   "id": "a7032bb3",
   "metadata": {},
   "outputs": [],
   "source": [
    "# logfile entry - number of successful ReactionCodes generated from third iteration\n",
    "addToFile(logfile,\n",
    "          ('third iteration successful ReactionCodes generated: {}\\n'\n",
    "           .format(len(third_iteration_successful_ReactionCodes))))"
   ]
  },
  {
   "cell_type": "markdown",
   "id": "e1ac5630",
   "metadata": {},
   "source": [
    "## Plot to show progression of reactionCode generation"
   ]
  },
  {
   "cell_type": "code",
   "execution_count": 176,
   "id": "88865952",
   "metadata": {},
   "outputs": [],
   "source": [
    "x3 = ['First iteration\\n(no reagents added)',\n",
    "      'Second iteration\\n(cirpy + pubchempy\\nreagents)',\n",
    "      \"Third iteration\\n(Will's reagents)\",\n",
    "      \"Summary\"]\n",
    "y3 = [len(first_iteration_reactionCodes),\n",
    "      len(second_iteration_successful_ReactionCodes),\n",
    "      len(third_iteration_successful_ReactionCodes),\n",
    "      len(first_iteration_reactionCodes)+\n",
    "          len(second_iteration_successful_ReactionCodes)+\n",
    "          len(third_iteration_successful_ReactionCodes)]\n",
    "\n",
    "y4 = [7232-5258,1781-849,377-354,771]"
   ]
  },
  {
   "cell_type": "code",
   "execution_count": 187,
   "id": "6e100e3a",
   "metadata": {},
   "outputs": [
    {
     "data": {
      "image/png": "[encoded data removed]",
      "text/plain": [
       "<Figure size 720x360 with 1 Axes>"
      ]
     },
     "metadata": {
      "needs_background": "light"
     },
     "output_type": "display_data"
    }
   ],
   "source": [
    "# making the bar chart on the data\n",
    "plt.figure(figsize = (10, 5))\n",
    "p1 = plt.bar(x3, y3, color='blue')\n",
    "plt.bar(x3, y4, bottom=y3, color='red')      \n",
    "\n",
    "# calling the function to add value labels\n",
    "addlabels(x3, y3)\n",
    "plt.text(x3[0], y3[0]+y4[0]+20, y4[0]+y3[0], ha ='center')\n",
    "plt.text(x3[1], y3[1]+y4[1]+50, y4[1]+y3[1], ha ='center')\n",
    "plt.text(x3[2], y3[2]+y4[2]+500, y4[2]+y3[2])\n",
    "plt.text(x3[-1], y3[-1]+770, y4[-1]+y3[-1], ha = 'center')\n",
    "# rotate x ticks\n",
    "plt.xticks(rotation=25)\n",
    "# add a title\n",
    "plt.title('ReactionCode generation\\nafter inclusion of reagents')\n",
    "plt.legend(['ReactionCodes Generated', 'Total Reactions'],loc=\"center\")\n",
    "# add tight layout to make the axis fir into figure box\n",
    "plt.tight_layout()\n",
    "# save it as a pdf\n",
    "plt.savefig('plot_3_reactionCode_breakdown.pdf')"
   ]
  },
  {
   "cell_type": "code",
   "execution_count": null,
   "id": "3545b6ec",
   "metadata": {},
   "outputs": [],
   "source": []
  }
 ],
 "metadata": {
  "kernelspec": {
   "display_name": "Python 3",
   "language": "python",
   "name": "python3"
  },
  "language_info": {
   "codemirror_mode": {
    "name": "ipython",
    "version": 3
   },
   "file_extension": ".py",
   "mimetype": "text/x-python",
   "name": "python",
   "nbconvert_exporter": "python",
   "pygments_lexer": "ipython3",
   "version": "3.8.8"
  }
 },
 "nbformat": 4,
 "nbformat_minor": 5
}
