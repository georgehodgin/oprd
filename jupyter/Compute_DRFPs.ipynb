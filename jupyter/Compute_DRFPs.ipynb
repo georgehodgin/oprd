{
 "cells": [
  {
   "cell_type": "code",
   "execution_count": 2,
   "id": "a531ab8a",
   "metadata": {},
   "outputs": [
    {
     "name": "stderr",
     "output_type": "stream",
     "text": [
      "[12:10:28] Enabling RDKit 2019.09.3 jupyter extensions\n",
      "RDKit WARNING: [12:10:28] Enabling RDKit 2019.09.3 jupyter extensions\n"
     ]
    }
   ],
   "source": [
    "import pickle\n",
    "import pandas as pd\n",
    "import numpy as np\n",
    "from drfp import DrfpEncoder\n",
    "from functools import partial\n",
    "from typing import Iterable\n",
    "import multiprocessing\n",
    "import os"
   ]
  },
  {
   "cell_type": "code",
   "execution_count": 3,
   "id": "2d1dbddd",
   "metadata": {},
   "outputs": [
    {
     "name": "stdout",
     "output_type": "stream",
     "text": [
      "/home/gah/oprd/jupyter\n",
      "/home/gah/oprd\n"
     ]
    }
   ],
   "source": [
    "# Define current working directory so we can navigate folders easily\n",
    "cwd = os.getcwd()\n",
    "print(cwd)\n",
    "os.chdir('../')\n",
    "pwd = os.getcwd()\n",
    "print(pwd)"
   ]
  },
  {
   "cell_type": "code",
   "execution_count": 61,
   "id": "e1a39dcd",
   "metadata": {},
   "outputs": [],
   "source": [
    "# Read in our dataset with added reagents\n",
    "data = pd.read_csv(pwd+'/data/reagents_added.csv')"
   ]
  },
  {
   "cell_type": "code",
   "execution_count": 73,
   "id": "bbd5e306",
   "metadata": {},
   "outputs": [],
   "source": [
    "# For now, only deal with reactions which have a single product - purely for plotting reasons\n",
    "data1 = data[~data['Yield (numerical)'].str.contains(';')]"
   ]
  },
  {
   "cell_type": "code",
   "execution_count": 74,
   "id": "1232814f",
   "metadata": {},
   "outputs": [],
   "source": [
    "# Some reactions have more than one time or temperature\n",
    "# I am going to take the first time/temperature as these are most \n",
    "# representative of the reactivity of the starting materials\n",
    "\n",
    "temps_split = [i.split(\"; \") for i in data1['Temperature (Reaction Details) [C]'].to_list()]\n",
    "# Take first temp if there is more than one\n",
    "temps_initial = [i[0] for i in temps_split]\n",
    "# Split upper and lower bound if range present\n",
    "temps_ranges = [i.split(' - ') for i in temps_initial]\n",
    "# Make a new list which stores the average of the range as new temp\n",
    "new_temps = []\n",
    "for i in temps_ranges:\n",
    "    if len(i) == 1:\n",
    "        new_temps.append(float(i[0]))\n",
    "    else:\n",
    "        new_temps.append((float(i[0])+float(i[1]))/2)"
   ]
  },
  {
   "cell_type": "code",
   "execution_count": 75,
   "id": "172a5706",
   "metadata": {},
   "outputs": [],
   "source": [
    "# In the same fashion I will take the first reaction time reported\n",
    "times_split = [i.split(\"; \") for i in data1['Time (Reaction Details) [h]'].to_list()]\n",
    "# Take first temp if there is more than one\n",
    "times_initial = [i[0] for i in times_split]\n"
   ]
  },
  {
   "cell_type": "markdown",
   "id": "8b1820b5",
   "metadata": {},
   "source": [
    "### The functions in the code box below are taken from the DRFP paper.\n",
    "url  =\"http://dx.doi.org/10.1039/D1DD00006C\""
   ]
  },
  {
   "cell_type": "code",
   "execution_count": 6,
   "id": "31c4917f",
   "metadata": {},
   "outputs": [],
   "source": [
    "def encode(smiles: Iterable, length: int = 2048, radius: int = 3) -> np.ndarray: \n",
    "    return DrfpEncoder.encode(\n",
    "        smiles,\n",
    "        n_folded_length=length,\n",
    "        radius=radius,\n",
    "        rings=True,\n",
    "    )\n",
    "\n",
    "\n",
    "def encode_dataset(smiles: Iterable, length: int, radius: int) -> np.ndarray:\n",
    "    \"\"\"Encode the reaction SMILES to drfp\"\"\"\n",
    "\n",
    "    cpu_count = (\n",
    "        multiprocessing.cpu_count()\n",
    "    )  # Data gets too big for piping when splitting less in python < 2.8\n",
    "\n",
    "    # Split reaction SMILES for multiprocessing\n",
    "    k, m = divmod(len(smiles), cpu_count)\n",
    "    smiles_chunks = (\n",
    "        smiles[i * k + min(i, m) : (i + 1) * k + min(i + 1, m)]\n",
    "        for i in range(cpu_count)\n",
    "    )\n",
    "\n",
    "    # Run the fingerprint generation in parallel\n",
    "    results = []\n",
    "    with multiprocessing.Pool(cpu_count) as p:\n",
    "        results = p.map(partial(encode, length=length, radius=radius), smiles_chunks)\n",
    "\n",
    "    return np.array([item for s in results for item in s])"
   ]
  },
  {
   "cell_type": "code",
   "execution_count": 77,
   "id": "47081be9",
   "metadata": {},
   "outputs": [],
   "source": [
    "# Encode the reactions with Reagents added\n",
    "drfps = encode_dataset(data1['Reactants.Reagents>>Products'], length=2048, radius=3)"
   ]
  },
  {
   "cell_type": "code",
   "execution_count": 85,
   "id": "b66118c1",
   "metadata": {},
   "outputs": [],
   "source": [
    "# Encode the reactions without Reagents added for later comparison of classification system\n",
    "drfp_without_reagents = encode_dataset(data1['Reaction'], length=2048, radius=3)"
   ]
  },
  {
   "cell_type": "code",
   "execution_count": null,
   "id": "07ce5a22",
   "metadata": {},
   "outputs": [],
   "source": [
    "# Gather temps, times and yields to be stored with drfps\n",
    "# Get reaction SMILES too for visualisation with TMAP\n",
    "yields = data1['Yield (numerical)'].astype(float).to_numpy()\n",
    "times = np.array(times_initial)\n",
    "temps = np.array(new_temps)\n",
    "SMILES = data1['Reactants.Reagents>>Products'].to_numpy()"
   ]
  },
  {
   "cell_type": "code",
   "execution_count": null,
   "id": "ab5d1634",
   "metadata": {},
   "outputs": [],
   "source": [
    "# Store the drfps with the contextual data in pickle file\n",
    "with open(pwd+\"/data/oprd_drfp_with_reagents.pkl\", \"wb+\") as f:\n",
    "        pickle.dump((drfps, yields, times, temps, SMILES), f, protocol=4)"
   ]
  },
  {
   "cell_type": "code",
   "execution_count": null,
   "id": "9e5b560a",
   "metadata": {},
   "outputs": [],
   "source": [
    "# Do the same as above for drfps without reagents\n",
    "with open(pwd+\"/data/oprd_drfp_without_reagents.pkl\", \"wb+\") as f:\n",
    "        pickle.dump((drfp_without_reagents, yields, times, temps, SMILES), f, protocol=4)"
   ]
  },
  {
   "cell_type": "code",
   "execution_count": 78,
   "id": "e1168bf2",
   "metadata": {},
   "outputs": [
    {
     "data": {
      "text/plain": [
       "(array([  14,   35,   45,   56,   99,  151,  155,  166,  180,  199,  270,\n",
       "         319,  344,  392,  418,  435,  444,  466,  475,  483,  505,  594,\n",
       "         646,  659,  684,  800,  947, 1023, 1053, 1061, 1066, 1089, 1142,\n",
       "        1291, 1406, 1439, 1491, 1500, 1524, 1544, 1561, 1603, 1607, 1626,\n",
       "        1630, 1879, 1894]),)"
      ]
     },
     "execution_count": 78,
     "metadata": {},
     "output_type": "execute_result"
    }
   ],
   "source": [
    "# An example of what bits are set to be \"on\"\n",
    "drfps[4000].nonzero()"
   ]
  },
  {
   "cell_type": "code",
   "execution_count": 79,
   "id": "4d7ead11",
   "metadata": {},
   "outputs": [
    {
     "data": {
      "text/plain": [
       "'FC1=CC=C(C=C1)C#N.C[C@H]1CNC[C@@H](C)N1.[Ca++].CCC([O-])=O.CCC([O-])=O>>C[C@H]1CN(C[C@@H](C)N1)C1=CC=C(C=C1)C#N'"
      ]
     },
     "execution_count": 79,
     "metadata": {},
     "output_type": "execute_result"
    }
   ],
   "source": [
    "# For the corresponding reaction\n",
    "data1['Reactants.Reagents>>Products'][4000]"
   ]
  },
  {
   "cell_type": "markdown",
   "id": "5f4880e9",
   "metadata": {},
   "source": [
    "## Encoding of query reactions for use in analysis of ANN\n",
    "\n",
    "From the Reactions with class notebook, import the selected random reactions from the 5 chosen reaction classes and compute the DRFP for each of them, store them with their reaction class and SMILES. These will be used as queries to the LSH forest index of the OPRD reactions to determine the quality of the classification."
   ]
  },
  {
   "cell_type": "code",
   "execution_count": 11,
   "id": "186b9910",
   "metadata": {},
   "outputs": [],
   "source": [
    "# Load in the data from the Compute_DRFP.ipynb notebook\n",
    "query_reactions = pickle.load(open(pwd+'/data/query_reactions.pkl',\"rb\"))\n",
    "query_SMILES = query_reactions[0]\n",
    "reaction_types = query_reactions[1]"
   ]
  },
  {
   "cell_type": "code",
   "execution_count": 12,
   "id": "809987f2",
   "metadata": {},
   "outputs": [],
   "source": [
    "# Encode the query reactions\n",
    "query_drfp = encode_dataset(query_SMILES, 2048, 3)"
   ]
  },
  {
   "cell_type": "code",
   "execution_count": 14,
   "id": "aceaadba",
   "metadata": {},
   "outputs": [],
   "source": [
    "# Save it as a pickle file\n",
    "with open(pwd+\"/data/query_reactions_drfp.pkl\", \"wb+\") as f:\n",
    "        pickle.dump((query_drfp, query_SMILES ,reaction_types), f, protocol=4)"
   ]
  },
  {
   "cell_type": "code",
   "execution_count": null,
   "id": "82d78c50",
   "metadata": {},
   "outputs": [],
   "source": []
  }
 ],
 "metadata": {
  "kernelspec": {
   "display_name": "ML",
   "language": "python",
   "name": "ml"
  },
  "language_info": {
   "codemirror_mode": {
    "name": "ipython",
    "version": 3
   },
   "file_extension": ".py",
   "mimetype": "text/x-python",
   "name": "python",
   "nbconvert_exporter": "python",
   "pygments_lexer": "ipython3",
   "version": "3.8.13"
  }
 },
 "nbformat": 4,
 "nbformat_minor": 5
}
