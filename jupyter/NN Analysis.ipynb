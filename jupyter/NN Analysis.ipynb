{
 "cells": [
  {
   "cell_type": "code",
   "execution_count": 64,
   "id": "bc45e71f",
   "metadata": {},
   "outputs": [],
   "source": [
    "import pickle\n",
    "import pandas as pd\n",
    "import os\n",
    "from rdkit import Chem\n",
    "from rdkit.Chem import Draw\n",
    "from rdkit.Chem.Draw import rdMolDraw2D\n",
    "from PIL import Image\n",
    "from IPython.display import SVG\n",
    "import io"
   ]
  },
  {
   "cell_type": "code",
   "execution_count": null,
   "id": "5df9550e",
   "metadata": {},
   "outputs": [],
   "source": [
    "# Define current working directory so we can navigate folders easily\n",
    "cwd = os.getcwd()\n",
    "print(cwd)\n",
    "os.chdir('../')\n",
    "pwd = os.getcwd()\n",
    "print(pwd)"
   ]
  },
  {
   "cell_type": "code",
   "execution_count": 9,
   "id": "e1b78723",
   "metadata": {},
   "outputs": [],
   "source": [
    "# Import all the results into a list of pandas dataframes\n",
    "files = os.listdir(pwd+'/NN_results/')\n",
    "pkl_files = [i for i in files if '.csv' not in i]\n",
    "list_of_dfs = []\n",
    "for file in pkl_files:\n",
    "    d = pd.DataFrame(pd.read_pickle(os.path.join(pwd+'/NN_results/'+file))).transpose()\n",
    "    d.columns = ['SMILES', 'Yield', 'Temp', 'Time']\n",
    "    list_of_dfs.append(d)"
   ]
  },
  {
   "cell_type": "code",
   "execution_count": 29,
   "id": "21dcaf62",
   "metadata": {},
   "outputs": [
    {
     "data": {
      "text/plain": [
       "['Huisgen Cycloaddition_10_NN.pkl',\n",
       " 'Heck Reaction_10_NN.pkl',\n",
       " 'Suzuki-Miyaura Coupling_10_NN.pkl',\n",
       " 'Grignard Reaction_10_NN.pkl',\n",
       " 'Buchwald-Hartwig Coupling_10_NN.pkl']"
      ]
     },
     "execution_count": 29,
     "metadata": {},
     "output_type": "execute_result"
    }
   ],
   "source": [
    "# The order of the files imported\n",
    "pkl_files"
   ]
  },
  {
   "cell_type": "code",
   "execution_count": 30,
   "id": "d7f9d263",
   "metadata": {},
   "outputs": [
    {
     "data": {
      "text/html": [
       "<div>\n",
       "<style scoped>\n",
       "    .dataframe tbody tr th:only-of-type {\n",
       "        vertical-align: middle;\n",
       "    }\n",
       "\n",
       "    .dataframe tbody tr th {\n",
       "        vertical-align: top;\n",
       "    }\n",
       "\n",
       "    .dataframe thead th {\n",
       "        text-align: right;\n",
       "    }\n",
       "</style>\n",
       "<table border=\"1\" class=\"dataframe\">\n",
       "  <thead>\n",
       "    <tr style=\"text-align: right;\">\n",
       "      <th></th>\n",
       "      <th>SMILES</th>\n",
       "      <th>Yield</th>\n",
       "      <th>Temp</th>\n",
       "      <th>Time</th>\n",
       "    </tr>\n",
       "  </thead>\n",
       "  <tbody>\n",
       "    <tr>\n",
       "      <th>0</th>\n",
       "      <td>C#CC1=CC=CC=C1.FC(F)(F)C1=CC=C(CN=N#N)C=C1.[Na...</td>\n",
       "      <td>99.0</td>\n",
       "      <td>80.0</td>\n",
       "      <td>16</td>\n",
       "    </tr>\n",
       "    <tr>\n",
       "      <th>1</th>\n",
       "      <td>C#CC1=CC=CC=C1.N#N=NCC1=CC=C2C=CC=CC2=C1.[Na+]...</td>\n",
       "      <td>94.0</td>\n",
       "      <td>80.0</td>\n",
       "      <td>16</td>\n",
       "    </tr>\n",
       "    <tr>\n",
       "      <th>2</th>\n",
       "      <td>CC1=CC=C(CN=N#N)C=C1.C#C.[Na+].OC[C@H](O)C1OC(...</td>\n",
       "      <td>99.0</td>\n",
       "      <td>90.0</td>\n",
       "      <td>16</td>\n",
       "    </tr>\n",
       "    <tr>\n",
       "      <th>3</th>\n",
       "      <td>COC1=CC=C(CN=N#N)C=C1.C#C.[Na+].OC[C@H](O)C1OC...</td>\n",
       "      <td>95.0</td>\n",
       "      <td>90.0</td>\n",
       "      <td>16</td>\n",
       "    </tr>\n",
       "    <tr>\n",
       "      <th>4</th>\n",
       "      <td>FC(F)(F)C1=CC=C(CN=N#N)C=C1.C#C.[Na+].OC[C@H](...</td>\n",
       "      <td>94.0</td>\n",
       "      <td>90.0</td>\n",
       "      <td>16</td>\n",
       "    </tr>\n",
       "    <tr>\n",
       "      <th>5</th>\n",
       "      <td>FC1=CC=C(CN=N#N)C=C1.C#C.[Na+].OC[C@H](O)C1OC(...</td>\n",
       "      <td>99.0</td>\n",
       "      <td>90.0</td>\n",
       "      <td>16</td>\n",
       "    </tr>\n",
       "    <tr>\n",
       "      <th>6</th>\n",
       "      <td>N#CC1=CC=C(CN=N#N)C=C1.C#C.[Na+].OC[C@H](O)C1O...</td>\n",
       "      <td>99.0</td>\n",
       "      <td>90.0</td>\n",
       "      <td>16</td>\n",
       "    </tr>\n",
       "    <tr>\n",
       "      <th>7</th>\n",
       "      <td>N#N=NCC1=CC=C2C=CC=CC2=C1.C#C.[Na+].OC[C@H](O)...</td>\n",
       "      <td>99.0</td>\n",
       "      <td>90.0</td>\n",
       "      <td>16</td>\n",
       "    </tr>\n",
       "    <tr>\n",
       "      <th>8</th>\n",
       "      <td>N#N=NCC1=CC=CC=C1.C#C.[Na+].OC[C@H](O)C1OC(=O)...</td>\n",
       "      <td>92.0</td>\n",
       "      <td>90.0</td>\n",
       "      <td>16</td>\n",
       "    </tr>\n",
       "    <tr>\n",
       "      <th>9</th>\n",
       "      <td>O=N(=O)C1=CC=C(CN=N#N)C=C1.C#C.[Na+].OC[C@H](O...</td>\n",
       "      <td>99.0</td>\n",
       "      <td>90.0</td>\n",
       "      <td>16</td>\n",
       "    </tr>\n",
       "  </tbody>\n",
       "</table>\n",
       "</div>"
      ],
      "text/plain": [
       "                                              SMILES Yield  Temp Time\n",
       "0  C#CC1=CC=CC=C1.FC(F)(F)C1=CC=C(CN=N#N)C=C1.[Na...  99.0  80.0   16\n",
       "1  C#CC1=CC=CC=C1.N#N=NCC1=CC=C2C=CC=CC2=C1.[Na+]...  94.0  80.0   16\n",
       "2  CC1=CC=C(CN=N#N)C=C1.C#C.[Na+].OC[C@H](O)C1OC(...  99.0  90.0   16\n",
       "3  COC1=CC=C(CN=N#N)C=C1.C#C.[Na+].OC[C@H](O)C1OC...  95.0  90.0   16\n",
       "4  FC(F)(F)C1=CC=C(CN=N#N)C=C1.C#C.[Na+].OC[C@H](...  94.0  90.0   16\n",
       "5  FC1=CC=C(CN=N#N)C=C1.C#C.[Na+].OC[C@H](O)C1OC(...  99.0  90.0   16\n",
       "6  N#CC1=CC=C(CN=N#N)C=C1.C#C.[Na+].OC[C@H](O)C1O...  99.0  90.0   16\n",
       "7  N#N=NCC1=CC=C2C=CC=CC2=C1.C#C.[Na+].OC[C@H](O)...  99.0  90.0   16\n",
       "8  N#N=NCC1=CC=CC=C1.C#C.[Na+].OC[C@H](O)C1OC(=O)...  92.0  90.0   16\n",
       "9  O=N(=O)C1=CC=C(CN=N#N)C=C1.C#C.[Na+].OC[C@H](O...  99.0  90.0   16"
      ]
     },
     "execution_count": 30,
     "metadata": {},
     "output_type": "execute_result"
    }
   ],
   "source": [
    "# Example of the 10 NN results returned\n",
    "list_of_dfs[0] # Huisgen Cycloadditions"
   ]
  },
  {
   "cell_type": "code",
   "execution_count": 15,
   "id": "7d538575",
   "metadata": {},
   "outputs": [],
   "source": [
    "# Read in the list of reactions which have a known reaction type\n",
    "with_reaction_type = pd.read_csv(pwd+'/data/reactions_with_reaction_type.csv')"
   ]
  },
  {
   "cell_type": "code",
   "execution_count": 79,
   "id": "befbc32a",
   "metadata": {},
   "outputs": [
    {
     "name": "stdout",
     "output_type": "stream",
     "text": [
      "Huisgen Cycloaddition\n",
      "Number of Reactions in class with label = 30\n",
      "Present in NN's = 10\n",
      "------------------------------\n",
      "Heck Reaction\n",
      "Number of Reactions in class with label = 56\n",
      "Present in NN's = 8\n",
      "------------------------------\n",
      "Suzuki-Miyaura Coupling\n",
      "Number of Reactions in class with label = 69\n",
      "Present in NN's = 10\n",
      "------------------------------\n",
      "Grignard Reaction\n",
      "Number of Reactions in class with label = 9\n",
      "Present in NN's = 1\n",
      "------------------------------\n",
      "Buchwald-Hartwig Coupling\n",
      "Number of Reactions in class with label = 63\n",
      "Present in NN's = 4\n",
      "------------------------------\n"
     ]
    },
    {
     "name": "stderr",
     "output_type": "stream",
     "text": [
      "RDKit ERROR: [16:33:18] Explicit valence for atom # 7 B, 5, is greater than permitted\n",
      "[16:33:18] Explicit valence for atom # 7 B, 5, is greater than permitted\n",
      "RDKit ERROR: [16:33:18] Explicit valence for atom # 7 B, 4, is greater than permitted\n",
      "[16:33:18] Explicit valence for atom # 7 B, 4, is greater than permitted\n",
      "RDKit ERROR: [16:33:18] Explicit valence for atom # 7 B, 4, is greater than permitted\n",
      "[16:33:18] Explicit valence for atom # 7 B, 4, is greater than permitted\n"
     ]
    }
   ],
   "source": [
    "# Iterate through the list of results and find how many of the returned\n",
    "# results have the same reaction class as the query reaction\n",
    "not_present_df_list =[]\n",
    "present_df_list = []\n",
    "for index, df in enumerate(list_of_dfs):\n",
    "    \n",
    "    # Get the name of the reaction class\n",
    "    reaction_class = pkl_files[index][:-10]\n",
    "    \n",
    "    # Make a directory to store the results\n",
    "    os.makedirs(pwd+\"/NN_results/\"+reaction_class)\n",
    "    \n",
    "    # Select all the reactions which have the same reaction type as the query reaction\n",
    "    known_reactions = with_reaction_type[with_reaction_type['Reaction Type']==reaction_class]\n",
    "    print(pkl_files[index][:-10])\n",
    "    print(\"Number of Reactions in class with label = \"+str(len(known_reactions)))\n",
    "    \n",
    "    # See how many of the returned nearest neighbours are found within these reactions\n",
    "    results = known_reactions[known_reactions['Reactants.Reagents>>Products'].isin(df.SMILES)]\n",
    "    \n",
    "    # Find the results which were not present in the list of classified reactions\n",
    "    not_present = [i for i in df.SMILES.to_list() if i not in results['Reactants.Reagents>>Products'].to_list()]\n",
    "    \n",
    "    # Store the results in lists\n",
    "    not_present_df = df[df.SMILES.isin(not_present)]\n",
    "    not_present_df_list.append(not_present_df)\n",
    "    present_df = df[df.SMILES.isin(results['Reactants.Reagents>>Products'])]\n",
    "    present_df_list.append(present_df)\n",
    "    \n",
    "    # Save the results as csv files\n",
    "    not_present_df.to_csv(pwd+\"/NN_results/\"+reaction_class+\"/\"+reaction_class+\"_not_present.csv\",index=False)\n",
    "    present_df.to_csv(pwd+\"/NN_results/\"+reaction_class+\"/\"+reaction_class+\"_present.csv\",index=False)\n",
    "    \n",
    "    # Generate images of the reactions - NOT Present\n",
    "    for index, smi in enumerate(not_present_df.SMILES):\n",
    "        rxn = Chem.rdChemReactions.ReactionFromSmarts(smi, useSmiles=True)\n",
    "        drawer = rdMolDraw2D.MolDraw2DCairo(800, 200)\n",
    "        drawer.SetFontSize(0.75)\n",
    "        drawer.DrawReaction(rxn)\n",
    "        drawer.FinishDrawing()\n",
    "        png = drawer.GetDrawingText()\n",
    "        im = Image.open(io.BytesIO(png))\n",
    "        im.save(pwd+\"/NN_results/\"+reaction_class+\"/\"+reaction_class+f\"_not_present_{index}.png\")\n",
    "        \n",
    "    # Generate images of the reactions - Present\n",
    "    for index, smi in enumerate(present_df.SMILES):\n",
    "        rxn = Chem.rdChemReactions.ReactionFromSmarts(smi, useSmiles=True)\n",
    "        drawer = rdMolDraw2D.MolDraw2DCairo(800, 200)\n",
    "        drawer.SetFontSize(0.75)\n",
    "        drawer.DrawReaction(rxn)\n",
    "        drawer.FinishDrawing()\n",
    "        png = drawer.GetDrawingText()\n",
    "        im = Image.open(io.BytesIO(png))\n",
    "        im.save(pwd+\"/NN_results/\"+reaction_class+\"/\"+reaction_class+f\"_present_{index}.png\")\n",
    "    \n",
    "    \n",
    "    print(\"Present in NN's = \" +str(present_df.shape[0]))\n",
    "    print(\"------------------------------\")\n",
    "    "
   ]
  },
  {
   "cell_type": "markdown",
   "id": "800dd33f",
   "metadata": {},
   "source": [
    "# Generate images of the reactions we queried first to get an idea of how \n",
    "# representative they are of their respective raction class"
   ]
  },
  {
   "cell_type": "code",
   "execution_count": 22,
   "id": "21511bc3",
   "metadata": {},
   "outputs": [],
   "source": [
    "# import the query reactions\n",
    "query_reactions = pickle.load(open(pwd+'/data/query_reactions_drfp.pkl',\"rb\"))"
   ]
  },
  {
   "cell_type": "code",
   "execution_count": 74,
   "id": "b0338406",
   "metadata": {},
   "outputs": [],
   "source": [
    "# Generate images of the query reactions\n",
    "query_rxns = []\n",
    "for index, i in enumerate(query_reactions[1]):\n",
    "    rxn = Chem.rdChemReactions.ReactionFromSmarts(query_reactions[1][index], useSmiles=True)\n",
    "    drawer = rdMolDraw2D.MolDraw2DCairo(800, 200)\n",
    "    drawer.SetFontSize(0.75)\n",
    "    drawer.DrawReaction(rxn)\n",
    "    drawer.FinishDrawing()\n",
    "    png = drawer.GetDrawingText()\n",
    "    im = Image.open(io.BytesIO(png))\n",
    "    im.save(pwd+\"/NN_results/\"+query_reactions[2][index]+\"_query.png\")"
   ]
  },
  {
   "cell_type": "code",
   "execution_count": null,
   "id": "07986858",
   "metadata": {},
   "outputs": [],
   "source": []
  }
 ],
 "metadata": {
  "kernelspec": {
   "display_name": "ML",
   "language": "python",
   "name": "ml"
  },
  "language_info": {
   "codemirror_mode": {
    "name": "ipython",
    "version": 3
   },
   "file_extension": ".py",
   "mimetype": "text/x-python",
   "name": "python",
   "nbconvert_exporter": "python",
   "pygments_lexer": "ipython3",
   "version": "3.8.13"
  }
 },
 "nbformat": 4,
 "nbformat_minor": 5
}
