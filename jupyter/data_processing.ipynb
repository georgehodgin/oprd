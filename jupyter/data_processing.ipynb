{
 "cells": [
  {
   "cell_type": "markdown",
   "id": "e5fe0298",
   "metadata": {},
   "source": [
    "## Preprocessing of the reactions in the OPRD dataset\n",
    "\n",
    "The goal of this notebook is to refine the Reactions downloaded from Reaxys to include only those reactions which\n",
    "have complete information for reactants and products. Also removed will be reactions which have electro/photochemical and enzymatic tags. Only those reactions which have information for time, temperature and yield will be carried forwards into the next notebook.  "
   ]
  },
  {
   "cell_type": "code",
   "execution_count": 1,
   "id": "00efef09",
   "metadata": {},
   "outputs": [],
   "source": [
    "import pandas as pd\n",
    "import itertools\n",
    "import os\n",
    "import glob\n",
    "import matplotlib.pyplot as plt"
   ]
  },
  {
   "cell_type": "code",
   "execution_count": 11,
   "id": "fe5f2727",
   "metadata": {},
   "outputs": [],
   "source": [
    "# Function to write to a text file for keeping logs\n",
    "def addToFile(file, what):\n",
    "    f = open(file, 'a').write(what) "
   ]
  },
  {
   "cell_type": "markdown",
   "id": "4c62abe9",
   "metadata": {},
   "source": [
    "## Remove entries with missing data"
   ]
  },
  {
   "cell_type": "code",
   "execution_count": 2,
   "id": "27fc8c72",
   "metadata": {},
   "outputs": [
    {
     "data": {
      "text/plain": [
       "'/home/gah/oprd/jupyter'"
      ]
     },
     "execution_count": 2,
     "metadata": {},
     "output_type": "execute_result"
    }
   ],
   "source": [
    "# Define current working directory so we can navigate folders easily\n",
    "cwd = os.getcwd()\n",
    "cwd"
   ]
  },
  {
   "cell_type": "code",
   "execution_count": 5,
   "id": "993a7c50",
   "metadata": {},
   "outputs": [],
   "source": [
    "# Change directory to the directory above the working directory\n",
    "os.chdir('../')"
   ]
  },
  {
   "cell_type": "code",
   "execution_count": 8,
   "id": "5547d893",
   "metadata": {},
   "outputs": [
    {
     "data": {
      "text/plain": [
       "'/home/gah/oprd'"
      ]
     },
     "execution_count": 8,
     "metadata": {},
     "output_type": "execute_result"
    }
   ],
   "source": [
    "# Assign this file path to a variable name so we can reference to it when saving files\n",
    "pwd = os.getcwd()\n",
    "pwd"
   ]
  },
  {
   "cell_type": "code",
   "execution_count": 9,
   "id": "4394475f",
   "metadata": {},
   "outputs": [],
   "source": [
    "# Assign logfile path\n",
    "logfile = pwd+'/logs/data_processing.txt'"
   ]
  },
  {
   "cell_type": "code",
   "execution_count": 12,
   "id": "4d16c836",
   "metadata": {},
   "outputs": [],
   "source": [
    "# Read in raw data\n",
    "raw_data = pd.read_excel(pwd+'/data/raw_data_master.xlsx')\n",
    "\n",
    "# Logfile entry - total # reactions in raw dataset\n",
    "addToFile(logfile,\n",
    "         ('Total number of reactions to be processed: {}\\n'.format(len(raw_data))))\n",
    "\n",
    "# Drop na entries on Reaction Smiles column\n",
    "raw_data.dropna(subset=['Reaction'], inplace=True)\n",
    "\n",
    "# Remove entries that are missing reactant and product SMILES\n",
    "raw_data = raw_data[~raw_data['Reaction'].str.endswith('>>')]\n",
    "raw_data = raw_data[~raw_data['Reaction'].str.startswith('>>')]\n",
    "\n",
    "# Logfile entry - total # reactions after missing entries removed\n",
    "addToFile(logfile,\n",
    "         ('Total number of reactions after missing reagent/product SMILES removed: {}\\n'\n",
    "          .format(len(raw_data))))\n",
    "\n",
    "# Fill in missing entries on conditions column to allow for filtering\n",
    "raw_data['Other Conditions'].fillna(value='None', inplace=True)\n",
    "raw_data['Multi-step Details'].fillna(value='None', inplace=True)\n",
    "\n",
    "# Filter out all unwanted reactions\n",
    "key_words = ['Electrochemical', 'Electrolysis', 'Photolysis', 'Enzymatic']\n",
    "mask = raw_data[raw_data['Other Conditions'].str.contains(r'\\b(?:{})\\b'.format('|'.join(key_words)))]\n",
    "mask2 = raw_data[raw_data['Multi-step Details'].str.contains(r'\\b(?:{})\\b'.format('|'.join(key_words)))]\n",
    "\n",
    "# Drop the Electro/Photolysis and electrochemical and enzymatic reactions\n",
    "combined = raw_data.append(mask)\n",
    "combined = combined.append(mask2)\n",
    "remaining = combined[~combined.index.duplicated(keep=False)]\n",
    "\n",
    "# Logfile entry - total # reactions after blanks and missing entries removed\n",
    "addToFile(logfile,\n",
    "         ('Total number of reactions after Electrochemical,\\\n",
    "          Electro/Photolysis and Enzymatic reactions removed: {}\\n'\n",
    "          .format(len(remaining))))\n"
   ]
  },
  {
   "cell_type": "markdown",
   "id": "d9988130",
   "metadata": {},
   "source": [
    "## Getting to the reactions which can be used\n",
    "\n",
    "For the purpose of creating reactivity scales, we need reactions with reaction time, temperature and yield data. There are 3 possible entries for yield: Yield, Yield (numerical) and Yield (optical). With prediction of yields in mind, I want to keep the data as uniform as possible, so I will only keep those reactions which have a numerical % yield, not a mass in g, nor an optical yield. To get all the values which have yield data of some form, use .agg on the 3 yield columns to create a new column which enables us to capture all entries with yield information."
   ]
  },
  {
   "cell_type": "code",
   "execution_count": 13,
   "id": "02b78736",
   "metadata": {},
   "outputs": [],
   "source": [
    "# Copy dataframe from above so we can do analysis on it\n",
    "analysis = remaining.copy()\n",
    "analysis.fillna(value='None', inplace=True)\n",
    "analysis['Yield combined'] = analysis[['Yield',\n",
    "                                       'Yield (numerical)',\n",
    "                                       'Yield (optical)']].agg(''.join, axis=1)"
   ]
  },
  {
   "cell_type": "code",
   "execution_count": 19,
   "id": "c5469b5c",
   "metadata": {},
   "outputs": [],
   "source": [
    "# Function to add value labels\n",
    "def addlabels(x,y):\n",
    "    for i in range(len(x)):\n",
    "        plt.text(i, y[i]+10, y[i], ha = 'center')\n",
    "\n",
    "# Assign x and y        \n",
    "x = ['Multi-step',\n",
    "     'Single-step',\n",
    "     'Multi-step\\n(with yield)',\n",
    "     'Single-step\\n(with yield)',\n",
    "     'Single-step\\n(yield & time)',\n",
    "     'Single-step\\n(yield, time\\n& temperature)']\n",
    "\n",
    "y =  [len(analysis[analysis['Number of Reaction Steps'] !=1]),\n",
    "      len(analysis[analysis['Number of Reaction Steps'] ==1]),\n",
    "      len(analysis[~analysis['Number of Reaction Steps'].isin([1]) & \n",
    "                   ~analysis['Yield combined'].isin(['NoneNoneNone'])]),\n",
    "      len(analysis[analysis['Number of Reaction Steps'].isin([1]) &\n",
    "                   ~analysis['Yield combined'].isin(['NoneNoneNone'])]),\n",
    "      len(analysis[analysis['Number of Reaction Steps'].isin([1]) &\n",
    "                   ~analysis['Yield combined'].isin(['NoneNoneNone']) &\n",
    "                   ~analysis['Time (Reaction Details) [h]'].isin(['None'])]),\n",
    "      len(analysis[analysis['Number of Reaction Steps'].isin([1]) &\n",
    "                   ~analysis['Yield combined'].isin(['NoneNoneNone']) &\n",
    "                   ~analysis['Time (Reaction Details) [h]'].isin(['None']) &\n",
    "                   ~analysis['Temperature (Reaction Details) [C]'].isin(['None'])])]"
   ]
  },
  {
   "cell_type": "markdown",
   "id": "61c7267a",
   "metadata": {},
   "source": [
    "## Graph to show distribution of yield data between one-step and multi-step reactions"
   ]
  },
  {
   "cell_type": "code",
   "execution_count": 20,
   "id": "c1e4e962",
   "metadata": {},
   "outputs": [
    {
     "data": {
      "image/png": "[encoded data removed]",
      "text/plain": [
       "<Figure size 432x288 with 1 Axes>"
      ]
     },
     "metadata": {
      "needs_background": "light"
     },
     "output_type": "display_data"
    }
   ],
   "source": [
    "# Making the bar chart on the data\n",
    "plt.bar(x, y)      \n",
    "# Calling the function to add value labels\n",
    "addlabels(x, y)\n",
    "# Rotate x ticks\n",
    "plt.xticks(rotation=25)\n",
    "# Add a title\n",
    "plt.title('Breakdown of Reaxys data into\\ndata which is useful')\n",
    "# Add tight layout to make the axis fit into figure box\n",
    "plt.tight_layout()\n",
    "# Save it as a pdf\n",
    "plt.savefig(pwd+'/plots/plot_1_data_breakdown.pdf')"
   ]
  },
  {
   "cell_type": "markdown",
   "id": "67683408",
   "metadata": {},
   "source": [
    "## Isolating the useful reactions"
   ]
  },
  {
   "cell_type": "code",
   "execution_count": 35,
   "id": "04c384c8",
   "metadata": {},
   "outputs": [],
   "source": [
    "# Some yield information is given in mass (useful :D).\n",
    "# The common theme with these is that they all have the unit g.\n",
    "# how many are like this?\n",
    "with_mass = analysis[analysis['Number of Reaction Steps'].isin([1]) &\n",
    "                   ~analysis['Yield combined'].isin(['NoneNoneNone']) &\n",
    "                   ~analysis['Time (Reaction Details) [h]'].isin(['None']) &\n",
    "                   ~analysis['Temperature (Reaction Details) [C]'].isin(['None'])]\n",
    "addToFile(logfile,\n",
    "          ('Number of one step reactions (w/ t & T) with yield given in mass: {}\\n'\n",
    "           .format(len(with_mass[with_mass['Yield combined'].str.contains('g')]))))\n",
    "\n",
    "\n",
    "# Isolate the reactions which have a % yield, disregarding the optical and mass yields\n",
    "# Those reactions which have yield reported in mass or optical yield do not have an entry\n",
    "# in the numerical yield column, so we don't need to further filter.\n",
    "useful_reactions = analysis[analysis['Number of Reaction Steps'].isin([1]) &\n",
    "                           ~analysis['Yield (numerical)'].isin(['None']) &\n",
    "                           ~analysis['Time (Reaction Details) [h]'].isin(['None']) &\n",
    "                           ~analysis['Temperature (Reaction Details) [C]'].isin(['None'])]"
   ]
  },
  {
   "cell_type": "code",
   "execution_count": 37,
   "id": "e53cffe7",
   "metadata": {},
   "outputs": [],
   "source": [
    "# Add number of reactions taken forward into next steps to logfile\n",
    "addToFile(logfile,\n",
    "          ('Number of one step reactions (w/ t & T) with yield given numerically: {}\\n'\n",
    "           .format(len(useful_reactions))))"
   ]
  },
  {
   "cell_type": "markdown",
   "id": "3eefc1b4",
   "metadata": {},
   "source": [
    "### Plot to show breakdown of yield data"
   ]
  },
  {
   "cell_type": "code",
   "execution_count": 44,
   "id": "c200acb8",
   "metadata": {},
   "outputs": [],
   "source": [
    "# Copy the resulting dataframe again\n",
    "analysis_2 = with_mass.copy()\n",
    "\n",
    "# Create x and y again\n",
    "x2 = ['Single-step\\n(temperature,\\n& time yield)', 'Yield (text)', 'Yield (numerical)', 'Yield (optical)',\n",
    "      'Yield (as mass)']\n",
    "y2 = [len(analysis_2),\n",
    "      len(analysis_2[analysis_2['Yield']!='None']),\n",
    "      len(analysis_2[analysis_2['Yield (numerical)']!= 'None']),\n",
    "      len(analysis_2[analysis_2['Yield (optical)']!= 'None']),\n",
    "      len(analysis_2[analysis_2['Yield combined'].str.contains('g')])]"
   ]
  },
  {
   "cell_type": "code",
   "execution_count": 45,
   "id": "9a615bb5",
   "metadata": {},
   "outputs": [
    {
     "data": {
      "image/png": "[encoded data removed]",
      "text/plain": [
       "<Figure size 432x288 with 1 Axes>"
      ]
     },
     "metadata": {
      "needs_background": "light"
     },
     "output_type": "display_data"
    }
   ],
   "source": [
    "# Making the bar chart on the data\n",
    "plt.bar(x2, y2)      \n",
    "# Calling the function to add value labels\n",
    "addlabels(x2, y2)\n",
    "# Rotate x ticks\n",
    "plt.xticks(rotation=25)\n",
    "# Add a title\n",
    "plt.title('Yield Information Analysis')\n",
    "# Add tight layout to make the axis fir into figure box\n",
    "plt.tight_layout()\n",
    "# Save it as a pdf\n",
    "plt.savefig(pwd+'/plots/plot_2_yield_breakdown.pdf')"
   ]
  },
  {
   "cell_type": "code",
   "execution_count": 46,
   "id": "832f692c",
   "metadata": {},
   "outputs": [],
   "source": [
    "# Saving the one step reactions with time, % yield and temperature to csv file for further use\n",
    "useful_reactions.to_csv(pwd+'/data/useful_reactions.csv',index=False)"
   ]
  }
 ],
 "metadata": {
  "kernelspec": {
   "display_name": "Python 3",
   "language": "python",
   "name": "python3"
  },
  "language_info": {
   "codemirror_mode": {
    "name": "ipython",
    "version": 3
   },
   "file_extension": ".py",
   "mimetype": "text/x-python",
   "name": "python",
   "nbconvert_exporter": "python",
   "pygments_lexer": "ipython3",
   "version": "3.8.8"
  }
 },
 "nbformat": 4,
 "nbformat_minor": 5
}
